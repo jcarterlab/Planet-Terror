{
 "cells": [
  {
   "cell_type": "markdown",
   "id": "5714dbcd",
   "metadata": {},
   "source": [
    "# Planet Terror"
   ]
  },
  {
   "cell_type": "markdown",
   "id": "fae7d9f1",
   "metadata": {},
   "source": [
    "Jack Carter - 26/08/2022"
   ]
  },
  {
   "cell_type": "markdown",
   "id": "04adc36b",
   "metadata": {},
   "source": [
    "## Summary"
   ]
  },
  {
   "cell_type": "markdown",
   "id": "93802b19",
   "metadata": {},
   "source": [
    "This project uses a refined version of the terorrism risk headlines obtained in the author's 'Risky Business' project to determine whether neural networks can perform classification well on small data sets. Despite having only 128 terror event headlines, the models achieve an accuracy of 90% and over. "
   ]
  },
  {
   "cell_type": "markdown",
   "id": "c6a3e8f6",
   "metadata": {},
   "source": [
    "## 1) Preparation"
   ]
  },
  {
   "cell_type": "markdown",
   "id": "fd53583a",
   "metadata": {},
   "source": [
    "### Import libraries & set options"
   ]
  },
  {
   "cell_type": "code",
   "execution_count": 26,
   "id": "f208a85c",
   "metadata": {},
   "outputs": [],
   "source": [
    "import numpy as np\n",
    "import pandas as pd\n",
    "from sklearn.model_selection import train_test_split\n",
    "pd.set_option('display.max_colwidth', 1000)"
   ]
  },
  {
   "cell_type": "markdown",
   "id": "a5579a9a",
   "metadata": {},
   "source": [
    "### Read in the terror events data frame"
   ]
  },
  {
   "cell_type": "markdown",
   "id": "e86bb90b",
   "metadata": {},
   "source": [
    "The terror events data frame contains terror event, falseflag other violence and random headlines. \n",
    "Falseflag headlines contain terrorism related words but do not constitute a terror event, while the other violence risk headlines include military conflict, social unrest and organized crime related news. "
   ]
  },
  {
   "cell_type": "code",
   "execution_count": 27,
   "id": "d962618a",
   "metadata": {},
   "outputs": [
    {
     "data": {
      "text/html": [
       "<div>\n",
       "<style scoped>\n",
       "    .dataframe tbody tr th:only-of-type {\n",
       "        vertical-align: middle;\n",
       "    }\n",
       "\n",
       "    .dataframe tbody tr th {\n",
       "        vertical-align: top;\n",
       "    }\n",
       "\n",
       "    .dataframe thead th {\n",
       "        text-align: right;\n",
       "    }\n",
       "</style>\n",
       "<table border=\"1\" class=\"dataframe\">\n",
       "  <thead>\n",
       "    <tr style=\"text-align: right;\">\n",
       "      <th></th>\n",
       "      <th>Headline</th>\n",
       "      <th>Category</th>\n",
       "    </tr>\n",
       "  </thead>\n",
       "  <tbody>\n",
       "    <tr>\n",
       "      <th>0</th>\n",
       "      <td>Al-Shabab terrorist attack at Somali hotel kills 20, injures 40</td>\n",
       "      <td>terrorism</td>\n",
       "    </tr>\n",
       "    <tr>\n",
       "      <th>1</th>\n",
       "      <td>Several killed in suspected ISIL attack on northeast Syria iftar</td>\n",
       "      <td>terrorism</td>\n",
       "    </tr>\n",
       "    <tr>\n",
       "      <th>2</th>\n",
       "      <td>Five Dead in Attack by Suspected FARC Dissidents in Colombia</td>\n",
       "      <td>terrorism</td>\n",
       "    </tr>\n",
       "    <tr>\n",
       "      <th>3</th>\n",
       "      <td>Terrorist attacks in Mali leave 66 dead</td>\n",
       "      <td>terrorism</td>\n",
       "    </tr>\n",
       "  </tbody>\n",
       "</table>\n",
       "</div>"
      ],
      "text/plain": [
       "                                                           Headline   Category\n",
       "0   Al-Shabab terrorist attack at Somali hotel kills 20, injures 40  terrorism\n",
       "1  Several killed in suspected ISIL attack on northeast Syria iftar  terrorism\n",
       "2      Five Dead in Attack by Suspected FARC Dissidents in Colombia  terrorism\n",
       "3                           Terrorist attacks in Mali leave 66 dead  terrorism"
      ]
     },
     "execution_count": 27,
     "metadata": {},
     "output_type": "execute_result"
    }
   ],
   "source": [
    "# creates a risks data set with terrorism and non-terrorism headlines. \n",
    "terror_events = pd.read_csv('C:/Users/HUAWEI/Desktop/Exploratory data/Planet Terror/Data/terror_events.csv', encoding = 'ISO-8859-1')\n",
    "\n",
    "# view sample headlines:\n",
    "terror_events.head(4)"
   ]
  },
  {
   "cell_type": "markdown",
   "id": "3b1f2dd8",
   "metadata": {},
   "source": [
    "### Read in the random data frame"
   ]
  },
  {
   "cell_type": "markdown",
   "id": "c88201a3",
   "metadata": {},
   "source": [
    "The random data frame contains a variety of headlines from online papers across the world which did not score anything in terms of violence risks on the author's previous 'Risky Business' project. "
   ]
  },
  {
   "cell_type": "code",
   "execution_count": 28,
   "id": "1f13470a",
   "metadata": {},
   "outputs": [
    {
     "data": {
      "text/html": [
       "<div>\n",
       "<style scoped>\n",
       "    .dataframe tbody tr th:only-of-type {\n",
       "        vertical-align: middle;\n",
       "    }\n",
       "\n",
       "    .dataframe tbody tr th {\n",
       "        vertical-align: top;\n",
       "    }\n",
       "\n",
       "    .dataframe thead th {\n",
       "        text-align: right;\n",
       "    }\n",
       "</style>\n",
       "<table border=\"1\" class=\"dataframe\">\n",
       "  <thead>\n",
       "    <tr style=\"text-align: right;\">\n",
       "      <th></th>\n",
       "      <th>Headline</th>\n",
       "      <th>Category</th>\n",
       "    </tr>\n",
       "  </thead>\n",
       "  <tbody>\n",
       "    <tr>\n",
       "      <th>414</th>\n",
       "      <td>Fans celebrate Star Wars Day in Taiwan</td>\n",
       "      <td>random</td>\n",
       "    </tr>\n",
       "    <tr>\n",
       "      <th>6</th>\n",
       "      <td>Somaliaâs miracle men eye more history</td>\n",
       "      <td>random</td>\n",
       "    </tr>\n",
       "    <tr>\n",
       "      <th>241</th>\n",
       "      <td>Govt plans generating more 2,883 MW power in next 6 yrs</td>\n",
       "      <td>random</td>\n",
       "    </tr>\n",
       "    <tr>\n",
       "      <th>392</th>\n",
       "      <td>UAE: Hiring a domestic worker? Here are 3 packages you can opt for</td>\n",
       "      <td>random</td>\n",
       "    </tr>\n",
       "  </tbody>\n",
       "</table>\n",
       "</div>"
      ],
      "text/plain": [
       "                                                               Headline  \\\n",
       "414                              Fans celebrate Star Wars Day in Taiwan   \n",
       "6                              Somaliaâs miracle men eye more history   \n",
       "241             Govt plans generating more 2,883 MW power in next 6 yrs   \n",
       "392  UAE: Hiring a domestic worker? Here are 3 packages you can opt for   \n",
       "\n",
       "    Category  \n",
       "414   random  \n",
       "6     random  \n",
       "241   random  \n",
       "392   random  "
      ]
     },
     "execution_count": 28,
     "metadata": {},
     "output_type": "execute_result"
    }
   ],
   "source": [
    "# creates a random data set. \n",
    "# these random headlines give the algorithm a clear idea of what isn't terrorism. \n",
    "random_data = pd.read_csv('C:/Users/HUAWEI/Desktop/Exploratory data/Planet Terror/Data/random_headlines.csv', encoding = 'ISO-8859-1')\n",
    "random_df = random_data.sample(100)\n",
    "random_df.iloc[:,0:2].head(4)"
   ]
  },
  {
   "cell_type": "markdown",
   "id": "9b1e65c5",
   "metadata": {},
   "source": [
    "### Combine the data"
   ]
  },
  {
   "cell_type": "code",
   "execution_count": 29,
   "id": "94200afb",
   "metadata": {},
   "outputs": [
    {
     "data": {
      "text/plain": [
       "falseflag            177\n",
       "terrorism            127\n",
       "random               100\n",
       "military_conflict     84\n",
       "social_unrest         68\n",
       "organized_crime       61\n",
       "Name: Category, dtype: int64"
      ]
     },
     "execution_count": 29,
     "metadata": {},
     "output_type": "execute_result"
    }
   ],
   "source": [
    "# creates a combined data frame, drops duplicates and checks how many of each headlines type.\n",
    "combined_data = pd.concat([terror_events, random_df.iloc[:,0:2]]).reset_index()\n",
    "unique = combined_data.loc[:,'Headline'].drop_duplicates().index\n",
    "df = combined_data.iloc[unique,:]\n",
    "df.Category.value_counts()"
   ]
  },
  {
   "cell_type": "markdown",
   "id": "c249b943",
   "metadata": {},
   "source": [
    "### Headlines by category"
   ]
  },
  {
   "cell_type": "code",
   "execution_count": 34,
   "id": "1acd4311",
   "metadata": {},
   "outputs": [
    {
     "data": {
      "image/png": "[encoded data removed]",
      "text/plain": [
       "<Figure size 864x432 with 1 Axes>"
      ]
     },
     "metadata": {
      "needs_background": "light"
     },
     "output_type": "display_data"
    }
   ],
   "source": [
    "# visualizes how many of each category there are. \n",
    "import matplotlib.pyplot as plt\n",
    "\n",
    "count = df.groupby(df.loc[:,'Category']).size().reset_index(name='counts') \n",
    "\n",
    "fig = plt.figure(figsize=(12,6)) \n",
    "plt.bar(count.loc[:,'Category'], count.loc[:,'counts'], color=['tab:blue', 'tab:orange', 'tab:green', 'tab:cyan', 'tab:purple', 'tab:red'], width = 0.8)\n",
    "plt.ylabel(\"No. of headlines\")\n",
    "plt.title(\"Headlines by category\")\n",
    "plt.show()"
   ]
  },
  {
   "cell_type": "markdown",
   "id": "ce63d277",
   "metadata": {},
   "source": [
    "### Re-assign labels"
   ]
  },
  {
   "cell_type": "code",
   "execution_count": 36,
   "id": "9a03b32b",
   "metadata": {
    "scrolled": true
   },
   "outputs": [
    {
     "data": {
      "text/plain": [
       "none         490\n",
       "terrorism    127\n",
       "Name: Category, dtype: int64"
      ]
     },
     "execution_count": 36,
     "metadata": {},
     "output_type": "execute_result"
    }
   ],
   "source": [
    "# checks how many terrorism vs non-terrorism headlines we have.\n",
    "target = 'terrorism'\n",
    "df.loc[combined_data['Category'] != target, 'Category'] = 'none'\n",
    "df.Category.value_counts()"
   ]
  },
  {
   "cell_type": "code",
   "execution_count": 37,
   "id": "a82cb2e9",
   "metadata": {},
   "outputs": [
    {
     "name": "stdout",
     "output_type": "stream",
     "text": [
      "The ratio of terror headlines is: 26.0%\n"
     ]
    }
   ],
   "source": [
    "# checks the percentage of terrorism vs non-terrorism headlines. \n",
    "non_terror = len(combined_data.loc[combined_data['Category'] != target, 'Category'])\n",
    "terror = len(combined_data.loc[combined_data['Category'] == target, 'Category'])\n",
    "\n",
    "print('The ratio of terror headlines is: ' + str(round(terror/non_terror, 2)*100) + '%')"
   ]
  },
  {
   "cell_type": "markdown",
   "id": "788fdcb1",
   "metadata": {},
   "source": [
    "### Terror vs non-terror headlines"
   ]
  },
  {
   "cell_type": "code",
   "execution_count": 38,
   "id": "34679e62",
   "metadata": {},
   "outputs": [
    {
     "data": {
      "image/png": "[encoded data removed]",
      "text/plain": [
       "<Figure size 720x432 with 1 Axes>"
      ]
     },
     "metadata": {
      "needs_background": "light"
     },
     "output_type": "display_data"
    }
   ],
   "source": [
    "# visualizes how many terror vs non-terror headlines there are.\n",
    "count = df.groupby(df.loc[:,'Category']).size().reset_index(name='counts')\n",
    "\n",
    "fig = plt.figure(figsize=(10,6)) \n",
    "plt.bar(count.loc[:,'Category'], count.loc[:,'counts'], color=['tab:blue', 'tab:red'], width = 0.8)\n",
    "plt.ylabel(\"No. of headlines\")\n",
    "plt.title(\"Terror vs non-terror headlines\")\n",
    "plt.show()"
   ]
  },
  {
   "cell_type": "markdown",
   "id": "4b848c81",
   "metadata": {},
   "source": [
    "### Split into training and test sets"
   ]
  },
  {
   "cell_type": "code",
   "execution_count": 9,
   "id": "b262fee6",
   "metadata": {},
   "outputs": [
    {
     "name": "stdout",
     "output_type": "stream",
     "text": [
      "Dataset has 80.0% of the data.\n",
      "Dataset has 20.0% of the data.\n"
     ]
    }
   ],
   "source": [
    "# splits the data into train and test sets and prints the percentage of headlines in each data set. \n",
    "x = combined_data['Headline']\n",
    "y = np.where(combined_data['Category'] == target, 1, 0)\n",
    "\n",
    "x_train, x_test, y_train, y_test = train_test_split(x, y, test_size=0.2, random_state=2007)\n",
    "\n",
    "for dataset in [x_train, x_test]:\n",
    "    print('Dataset has {}{} of the data.'.format((round(len(dataset) / len(combined_data['Headline']), 2))*100, '%'))"
   ]
  },
  {
   "cell_type": "markdown",
   "id": "a8e20395",
   "metadata": {},
   "source": [
    "### Convert headlines to sequences"
   ]
  },
  {
   "cell_type": "markdown",
   "id": "97e4c58d",
   "metadata": {},
   "source": [
    "The headlines are converted to sequences where each unique word has its own number."
   ]
  },
  {
   "cell_type": "code",
   "execution_count": 10,
   "id": "e3d20f33",
   "metadata": {},
   "outputs": [
    {
     "data": {
      "text/plain": [
       "[37, 360, 627, 29, 628, 629, 2, 112, 361]"
      ]
     },
     "execution_count": 10,
     "metadata": {},
     "output_type": "execute_result"
    }
   ],
   "source": [
    "# 'fit_on_texts' assigns a unique number for each word in our vocab.\n",
    "# 'texts_to_sequences' replaces each headline with a number sequence. \n",
    "from keras.preprocessing.text import Tokenizer\n",
    "from keras.utils.data_utils import pad_sequences\n",
    "\n",
    "tokenizer = Tokenizer()\n",
    "tokenizer.fit_on_texts(x_train)\n",
    "\n",
    "x_train_seq = tokenizer.texts_to_sequences(x_train)\n",
    "x_test_seq = tokenizer.texts_to_sequences(x_test)\n",
    "\n",
    "# views a sample sequence:\n",
    "x_train_seq[0]"
   ]
  },
  {
   "cell_type": "markdown",
   "id": "0a267f95",
   "metadata": {},
   "source": [
    "### Pad sequences"
   ]
  },
  {
   "cell_type": "markdown",
   "id": "82d32587",
   "metadata": {},
   "source": [
    "The sequences are then padded with extra zeros at the beginning to ensure the same length for the machine learning process. If any headlines are longer than the limit of 30 set here, only the last 30 words are used."
   ]
  },
  {
   "cell_type": "code",
   "execution_count": 11,
   "id": "f5d4a716",
   "metadata": {},
   "outputs": [
    {
     "data": {
      "text/plain": [
       "array([  0,   0,   0,   0,   0,   0,   0,   0,   0,   0,   0,   0,   0,\n",
       "         0,   0,   0,   0,   0,   0,   0,   0,  37, 360, 627,  29, 628,\n",
       "       629,   2, 112, 361])"
      ]
     },
     "execution_count": 11,
     "metadata": {},
     "output_type": "execute_result"
    }
   ],
   "source": [
    "# 'pad_sequences' adds zeros to begining of all sequences untill each is equal to our max length (50).\n",
    "# this is needed to ensure we have matrices of the same length later on in the process. \n",
    "x_train_seq_padded = pad_sequences(x_train_seq, 30)\n",
    "x_test_seq_padded = pad_sequences(x_test_seq, 30)\n",
    "\n",
    "# view a sample padded sequence:\n",
    "x_train_seq_padded[0]"
   ]
  },
  {
   "cell_type": "markdown",
   "id": "8edfdeb5",
   "metadata": {},
   "source": [
    "## 2) Training"
   ]
  },
  {
   "cell_type": "markdown",
   "id": "1786c51b",
   "metadata": {},
   "source": [
    "### Import libraries and define functions"
   ]
  },
  {
   "cell_type": "markdown",
   "id": "352b65aa",
   "metadata": {},
   "source": [
    "Two functions are defined to give us the recall and precision evaluation metrics. Another two are defined to compile and fit our test models, including the feed-forward, convolutional and recurrent neural network models."
   ]
  },
  {
   "cell_type": "code",
   "execution_count": 12,
   "id": "3b5eb9e0",
   "metadata": {},
   "outputs": [],
   "source": [
    "# imports functions and defines two functions to test recall and precision.  \n",
    "import keras.backend as K\n",
    "from keras import layers\n",
    "from keras.layers import Dense, Embedding, Conv1D, LSTM\n",
    "from keras.models import Sequential\n",
    "\n",
    "epochs = 15\n",
    "\n",
    "def recall(y_true, y_pred):\n",
    "    true_positives = K.sum(K.round(K.clip(y_true * y_pred, 0, 1)))\n",
    "    possible_positives = K.sum(K.round(K.clip(y_true, 0, 1)))\n",
    "    recall = true_positives / (possible_positives + K.epsilon()) \n",
    "    return recall\n",
    "\n",
    "def precision(y_true, y_pred):\n",
    "    true_positives = K.sum(K.round(K.clip(y_true * y_pred, 0, 1)))\n",
    "    predicted_positives = K.sum(K.round(K.clip(y_pred, 0, 1)))\n",
    "    precision = true_positives / (predicted_positives + K.epsilon()) \n",
    "    return precision\n",
    "\n",
    "def m_compile(model):\n",
    "    model.compile(optimizer='adam',\n",
    "              loss='binary_crossentropy',\n",
    "              metrics=['accuracy', precision, recall])\n",
    "    \n",
    "def m_fit(model):\n",
    "    history = model.fit(x_train_seq_padded, y_train, \n",
    "                    batch_size=32, epochs=epochs,\n",
    "                    validation_data=(x_test_seq_padded, y_test))\n",
    "    return history"
   ]
  },
  {
   "cell_type": "markdown",
   "id": "3ecf2eeb",
   "metadata": {},
   "source": [
    "### The feed-forward model (fnn)"
   ]
  },
  {
   "cell_type": "markdown",
   "id": "c737ad3f",
   "metadata": {},
   "source": [
    "The feed-forward model is the first and most simple type of neural network model. It works by feeding inputs forward from one node to another while attemping to maximise accuracy and minimize error."
   ]
  },
  {
   "cell_type": "code",
   "execution_count": 13,
   "id": "7906d1f7",
   "metadata": {},
   "outputs": [
    {
     "name": "stdout",
     "output_type": "stream",
     "text": [
      "Model: \"sequential\"\n",
      "_________________________________________________________________\n",
      " Layer (type)                Output Shape              Param #   \n",
      "=================================================================\n",
      " embedding (Embedding)       (None, None, 32)          61216     \n",
      "                                                                 \n",
      " global_max_pooling1d (Globa  (None, 32)               0         \n",
      " lMaxPooling1D)                                                  \n",
      "                                                                 \n",
      " dense (Dense)               (None, 32)                1056      \n",
      "                                                                 \n",
      " dense_1 (Dense)             (None, 1)                 33        \n",
      "                                                                 \n",
      "=================================================================\n",
      "Total params: 62,305\n",
      "Trainable params: 62,305\n",
      "Non-trainable params: 0\n",
      "_________________________________________________________________\n",
      "Epoch 1/15\n",
      "16/16 [==============================] - 1s 15ms/step - loss: 0.6656 - accuracy: 0.7771 - precision: 0.0000e+00 - recall: 0.0000e+00 - val_loss: 0.6338 - val_accuracy: 0.8640 - val_precision: 0.0000e+00 - val_recall: 0.0000e+00\n",
      "Epoch 2/15\n",
      "16/16 [==============================] - 0s 4ms/step - loss: 0.6291 - accuracy: 0.7771 - precision: 0.0000e+00 - recall: 0.0000e+00 - val_loss: 0.5798 - val_accuracy: 0.8640 - val_precision: 0.0000e+00 - val_recall: 0.0000e+00\n",
      "Epoch 3/15\n",
      "16/16 [==============================] - 0s 4ms/step - loss: 0.5849 - accuracy: 0.7771 - precision: 0.0000e+00 - recall: 0.0000e+00 - val_loss: 0.5217 - val_accuracy: 0.8640 - val_precision: 0.0000e+00 - val_recall: 0.0000e+00\n",
      "Epoch 4/15\n",
      "16/16 [==============================] - 0s 3ms/step - loss: 0.5434 - accuracy: 0.7771 - precision: 0.0000e+00 - recall: 0.0000e+00 - val_loss: 0.4672 - val_accuracy: 0.8640 - val_precision: 0.0000e+00 - val_recall: 0.0000e+00\n",
      "Epoch 5/15\n",
      "16/16 [==============================] - 0s 4ms/step - loss: 0.5088 - accuracy: 0.7771 - precision: 0.0000e+00 - recall: 0.0000e+00 - val_loss: 0.4248 - val_accuracy: 0.8640 - val_precision: 0.0000e+00 - val_recall: 0.0000e+00\n",
      "Epoch 6/15\n",
      "16/16 [==============================] - 0s 4ms/step - loss: 0.4811 - accuracy: 0.7771 - precision: 0.0000e+00 - recall: 0.0000e+00 - val_loss: 0.3961 - val_accuracy: 0.8640 - val_precision: 0.0000e+00 - val_recall: 0.0000e+00\n",
      "Epoch 7/15\n",
      "16/16 [==============================] - 0s 4ms/step - loss: 0.4546 - accuracy: 0.7771 - precision: 0.0000e+00 - recall: 0.0000e+00 - val_loss: 0.3776 - val_accuracy: 0.8640 - val_precision: 0.0000e+00 - val_recall: 0.0000e+00\n",
      "Epoch 8/15\n",
      "16/16 [==============================] - 0s 4ms/step - loss: 0.4238 - accuracy: 0.7771 - precision: 0.0000e+00 - recall: 0.0000e+00 - val_loss: 0.3620 - val_accuracy: 0.8640 - val_precision: 0.0000e+00 - val_recall: 0.0000e+00\n",
      "Epoch 9/15\n",
      "16/16 [==============================] - 0s 4ms/step - loss: 0.3873 - accuracy: 0.7771 - precision: 0.0000e+00 - recall: 0.0000e+00 - val_loss: 0.3431 - val_accuracy: 0.8640 - val_precision: 0.0000e+00 - val_recall: 0.0000e+00\n",
      "Epoch 10/15\n",
      "16/16 [==============================] - 0s 4ms/step - loss: 0.3440 - accuracy: 0.7771 - precision: 0.0000e+00 - recall: 0.0000e+00 - val_loss: 0.3260 - val_accuracy: 0.8640 - val_precision: 0.0000e+00 - val_recall: 0.0000e+00\n",
      "Epoch 11/15\n",
      "16/16 [==============================] - 0s 4ms/step - loss: 0.2943 - accuracy: 0.7831 - precision: 0.1250 - recall: 0.0188 - val_loss: 0.3071 - val_accuracy: 0.8640 - val_precision: 0.0000e+00 - val_recall: 0.0000e+00\n",
      "Epoch 12/15\n",
      "16/16 [==============================] - 0s 4ms/step - loss: 0.2419 - accuracy: 0.8815 - precision: 0.9375 - recall: 0.4984 - val_loss: 0.2928 - val_accuracy: 0.8960 - val_precision: 0.7500 - val_recall: 0.2583\n",
      "Epoch 13/15\n",
      "16/16 [==============================] - 0s 4ms/step - loss: 0.1956 - accuracy: 0.9498 - precision: 1.0000 - recall: 0.7776 - val_loss: 0.2838 - val_accuracy: 0.9040 - val_precision: 0.6750 - val_recall: 0.5875\n",
      "Epoch 14/15\n",
      "16/16 [==============================] - 0s 4ms/step - loss: 0.1576 - accuracy: 0.9759 - precision: 1.0000 - recall: 0.8778 - val_loss: 0.2788 - val_accuracy: 0.8960 - val_precision: 0.6500 - val_recall: 0.5875\n",
      "Epoch 15/15\n",
      "16/16 [==============================] - 0s 4ms/step - loss: 0.1268 - accuracy: 0.9859 - precision: 1.0000 - recall: 0.9401 - val_loss: 0.2791 - val_accuracy: 0.9120 - val_precision: 0.6845 - val_recall: 0.6792\n"
     ]
    }
   ],
   "source": [
    "# builds a simple fnn model with several layers. \n",
    "fnn = Sequential()\n",
    "fnn.add(Embedding(input_dim=len(tokenizer.index_word)+1, output_dim=32))\n",
    "fnn.add(layers.GlobalMaxPooling1D())\n",
    "fnn.add(Dense(32, activation='relu'))\n",
    "fnn.add(Dense(1, activation='sigmoid'))\n",
    "fnn.summary()\n",
    "\n",
    "# compiles the model. \n",
    "m_compile(fnn)\n",
    "\n",
    "# fits the model. \n",
    "fnn_history = m_fit(fnn)"
   ]
  },
  {
   "cell_type": "markdown",
   "id": "91d71234",
   "metadata": {},
   "source": [
    "### The convolutional model (cnn)"
   ]
  },
  {
   "cell_type": "markdown",
   "id": "216431e3",
   "metadata": {},
   "source": [
    "The convolutional model is a type of feed-forward neural network which extracts features from filters, creates feature maps and then pools the output (downsamples the feature map's dimensionality) to better generalize the results. "
   ]
  },
  {
   "cell_type": "code",
   "execution_count": 14,
   "id": "5adb56dc",
   "metadata": {},
   "outputs": [
    {
     "name": "stdout",
     "output_type": "stream",
     "text": [
      "Model: \"sequential_1\"\n",
      "_________________________________________________________________\n",
      " Layer (type)                Output Shape              Param #   \n",
      "=================================================================\n",
      " embedding_1 (Embedding)     (None, 30, 50)            95650     \n",
      "                                                                 \n",
      " conv1d (Conv1D)             (None, 23, 32)            12832     \n",
      "                                                                 \n",
      " global_max_pooling1d_1 (Glo  (None, 32)               0         \n",
      " balMaxPooling1D)                                                \n",
      "                                                                 \n",
      " dense_2 (Dense)             (None, 10)                330       \n",
      "                                                                 \n",
      " dense_3 (Dense)             (None, 1)                 11        \n",
      "                                                                 \n",
      "=================================================================\n",
      "Total params: 108,823\n",
      "Trainable params: 108,823\n",
      "Non-trainable params: 0\n",
      "_________________________________________________________________\n",
      "Epoch 1/15\n",
      "16/16 [==============================] - 1s 23ms/step - loss: 0.6676 - accuracy: 0.6847 - precision: 0.0520 - recall: 0.1667 - val_loss: 0.6019 - val_accuracy: 0.8640 - val_precision: 0.0000e+00 - val_recall: 0.0000e+00\n",
      "Epoch 2/15\n",
      "16/16 [==============================] - 0s 6ms/step - loss: 0.5814 - accuracy: 0.7771 - precision: 0.0000e+00 - recall: 0.0000e+00 - val_loss: 0.4570 - val_accuracy: 0.8640 - val_precision: 0.0000e+00 - val_recall: 0.0000e+00\n",
      "Epoch 3/15\n",
      "16/16 [==============================] - 0s 6ms/step - loss: 0.5138 - accuracy: 0.7771 - precision: 0.0000e+00 - recall: 0.0000e+00 - val_loss: 0.3987 - val_accuracy: 0.8640 - val_precision: 0.0000e+00 - val_recall: 0.0000e+00\n",
      "Epoch 4/15\n",
      "16/16 [==============================] - 0s 6ms/step - loss: 0.4820 - accuracy: 0.7771 - precision: 0.0000e+00 - recall: 0.0000e+00 - val_loss: 0.3893 - val_accuracy: 0.8640 - val_precision: 0.0000e+00 - val_recall: 0.0000e+00\n",
      "Epoch 5/15\n",
      "16/16 [==============================] - 0s 6ms/step - loss: 0.4225 - accuracy: 0.7892 - precision: 0.3125 - recall: 0.0778 - val_loss: 0.3609 - val_accuracy: 0.8880 - val_precision: 0.5000 - val_recall: 0.1458\n",
      "Epoch 6/15\n",
      "16/16 [==============================] - 0s 6ms/step - loss: 0.3227 - accuracy: 0.8755 - precision: 1.0000 - recall: 0.4509 - val_loss: 0.2800 - val_accuracy: 0.9120 - val_precision: 0.6875 - val_recall: 0.3500\n",
      "Epoch 7/15\n",
      "16/16 [==============================] - 0s 6ms/step - loss: 0.1990 - accuracy: 0.9578 - precision: 0.9750 - recall: 0.8344 - val_loss: 0.2267 - val_accuracy: 0.9200 - val_precision: 0.7417 - val_recall: 0.5792\n",
      "Epoch 8/15\n",
      "16/16 [==============================] - 0s 6ms/step - loss: 0.1079 - accuracy: 0.9839 - precision: 0.9865 - recall: 0.9462 - val_loss: 0.2016 - val_accuracy: 0.9360 - val_precision: 0.7708 - val_recall: 0.6708\n",
      "Epoch 9/15\n",
      "16/16 [==============================] - 0s 6ms/step - loss: 0.0587 - accuracy: 0.9960 - precision: 0.9833 - recall: 1.0000 - val_loss: 0.1948 - val_accuracy: 0.9360 - val_precision: 0.7708 - val_recall: 0.6708\n",
      "Epoch 10/15\n",
      "16/16 [==============================] - 0s 6ms/step - loss: 0.0315 - accuracy: 0.9980 - precision: 0.9931 - recall: 1.0000 - val_loss: 0.1967 - val_accuracy: 0.9360 - val_precision: 0.8875 - val_recall: 0.6292\n",
      "Epoch 11/15\n",
      "16/16 [==============================] - 0s 6ms/step - loss: 0.0191 - accuracy: 1.0000 - precision: 1.0000 - recall: 1.0000 - val_loss: 0.2011 - val_accuracy: 0.9360 - val_precision: 0.8875 - val_recall: 0.6292\n",
      "Epoch 12/15\n",
      "16/16 [==============================] - 0s 6ms/step - loss: 0.0123 - accuracy: 1.0000 - precision: 1.0000 - recall: 1.0000 - val_loss: 0.2054 - val_accuracy: 0.9440 - val_precision: 0.8958 - val_recall: 0.6708\n",
      "Epoch 13/15\n",
      "16/16 [==============================] - 0s 6ms/step - loss: 0.0088 - accuracy: 1.0000 - precision: 1.0000 - recall: 1.0000 - val_loss: 0.2096 - val_accuracy: 0.9440 - val_precision: 0.8958 - val_recall: 0.6708\n",
      "Epoch 14/15\n",
      "16/16 [==============================] - 0s 6ms/step - loss: 0.0065 - accuracy: 1.0000 - precision: 1.0000 - recall: 1.0000 - val_loss: 0.2154 - val_accuracy: 0.9360 - val_precision: 0.8875 - val_recall: 0.6292\n",
      "Epoch 15/15\n",
      "16/16 [==============================] - 0s 6ms/step - loss: 0.0051 - accuracy: 1.0000 - precision: 1.0000 - recall: 1.0000 - val_loss: 0.2193 - val_accuracy: 0.9440 - val_precision: 0.8958 - val_recall: 0.6708\n"
     ]
    }
   ],
   "source": [
    "# builds a simple cnn model with several layers. \n",
    "cnn = Sequential()\n",
    "cnn.add(layers.Embedding(len(tokenizer.index_word)+1, 50, input_length=30))\n",
    "cnn.add(layers.Conv1D(32, 8, activation='relu'))\n",
    "cnn.add(layers.GlobalMaxPooling1D())\n",
    "cnn.add(layers.Dense(10, activation='relu'))\n",
    "cnn.add(layers.Dense(1, activation='sigmoid'))\n",
    "cnn.summary()\n",
    "\n",
    "# compiles the model. \n",
    "m_compile(cnn)\n",
    "\n",
    "# fits the model. \n",
    "cnn_history = m_fit(cnn)"
   ]
  },
  {
   "cell_type": "markdown",
   "id": "6d0e7c95",
   "metadata": {},
   "source": [
    "### The recurrent model (rnn)"
   ]
  },
  {
   "cell_type": "markdown",
   "id": "080da0a2",
   "metadata": {},
   "source": [
    "The recurrent model is a type of neural network which remembers and takes into account previous inputs when passing information through the network. This makes it more effective at understanding sequences and therefore the context of sentences."
   ]
  },
  {
   "cell_type": "code",
   "execution_count": 15,
   "id": "83187842",
   "metadata": {},
   "outputs": [
    {
     "name": "stdout",
     "output_type": "stream",
     "text": [
      "Model: \"sequential_2\"\n",
      "_________________________________________________________________\n",
      " Layer (type)                Output Shape              Param #   \n",
      "=================================================================\n",
      " embedding_2 (Embedding)     (None, None, 32)          61216     \n",
      "                                                                 \n",
      " lstm (LSTM)                 (None, 32)                8320      \n",
      "                                                                 \n",
      " dense_4 (Dense)             (None, 32)                1056      \n",
      "                                                                 \n",
      " dense_5 (Dense)             (None, 1)                 33        \n",
      "                                                                 \n",
      "=================================================================\n",
      "Total params: 70,625\n",
      "Trainable params: 70,625\n",
      "Non-trainable params: 0\n",
      "_________________________________________________________________\n",
      "Epoch 1/15\n",
      "16/16 [==============================] - 4s 47ms/step - loss: 0.6700 - accuracy: 0.7610 - precision: 0.0197 - recall: 0.0375 - val_loss: 0.5922 - val_accuracy: 0.8640 - val_precision: 0.0000e+00 - val_recall: 0.0000e+00\n",
      "Epoch 2/15\n",
      "16/16 [==============================] - 0s 20ms/step - loss: 0.5557 - accuracy: 0.7771 - precision: 0.0000e+00 - recall: 0.0000e+00 - val_loss: 0.3880 - val_accuracy: 0.8640 - val_precision: 0.0000e+00 - val_recall: 0.0000e+00\n",
      "Epoch 3/15\n",
      "16/16 [==============================] - 0s 21ms/step - loss: 0.5004 - accuracy: 0.7771 - precision: 0.0000e+00 - recall: 0.0000e+00 - val_loss: 0.3831 - val_accuracy: 0.8640 - val_precision: 0.0000e+00 - val_recall: 0.0000e+00\n",
      "Epoch 4/15\n",
      "16/16 [==============================] - 0s 21ms/step - loss: 0.4417 - accuracy: 0.7771 - precision: 0.0000e+00 - recall: 0.0000e+00 - val_loss: 0.3335 - val_accuracy: 0.8640 - val_precision: 0.0000e+00 - val_recall: 0.0000e+00\n",
      "Epoch 5/15\n",
      "16/16 [==============================] - 0s 21ms/step - loss: 0.3148 - accuracy: 0.8112 - precision: 0.5625 - recall: 0.1432 - val_loss: 0.2592 - val_accuracy: 0.9360 - val_precision: 0.8875 - val_recall: 0.6292\n",
      "Epoch 6/15\n",
      "16/16 [==============================] - 0s 21ms/step - loss: 0.1833 - accuracy: 0.9618 - precision: 0.9792 - recall: 0.8510 - val_loss: 0.2052 - val_accuracy: 0.9440 - val_precision: 0.8958 - val_recall: 0.6708\n",
      "Epoch 7/15\n",
      "16/16 [==============================] - 0s 20ms/step - loss: 0.1283 - accuracy: 0.9739 - precision: 0.9270 - recall: 0.9672 - val_loss: 0.2166 - val_accuracy: 0.9200 - val_precision: 0.6479 - val_recall: 0.7833\n",
      "Epoch 8/15\n",
      "16/16 [==============================] - 0s 20ms/step - loss: 0.0685 - accuracy: 0.9839 - precision: 0.9755 - recall: 0.9644 - val_loss: 0.2189 - val_accuracy: 0.9280 - val_precision: 0.6911 - val_recall: 0.7208\n",
      "Epoch 9/15\n",
      "16/16 [==============================] - 0s 20ms/step - loss: 0.0372 - accuracy: 0.9900 - precision: 0.9693 - recall: 0.9861 - val_loss: 0.2355 - val_accuracy: 0.9360 - val_precision: 0.8875 - val_recall: 0.6292\n",
      "Epoch 10/15\n",
      "16/16 [==============================] - 0s 22ms/step - loss: 0.0240 - accuracy: 0.9960 - precision: 0.9931 - recall: 0.9896 - val_loss: 0.2503 - val_accuracy: 0.9360 - val_precision: 0.8875 - val_recall: 0.6292\n",
      "Epoch 11/15\n",
      "16/16 [==============================] - 0s 20ms/step - loss: 0.0203 - accuracy: 0.9940 - precision: 0.9896 - recall: 0.9823 - val_loss: 0.2553 - val_accuracy: 0.9120 - val_precision: 0.6271 - val_recall: 0.7208\n",
      "Epoch 12/15\n",
      "16/16 [==============================] - 0s 21ms/step - loss: 0.0118 - accuracy: 0.9980 - precision: 0.9896 - recall: 1.0000 - val_loss: 0.2779 - val_accuracy: 0.9360 - val_precision: 0.8875 - val_recall: 0.6292\n",
      "Epoch 13/15\n",
      "16/16 [==============================] - 0s 21ms/step - loss: 0.0052 - accuracy: 1.0000 - precision: 1.0000 - recall: 1.0000 - val_loss: 0.2782 - val_accuracy: 0.9360 - val_precision: 0.8875 - val_recall: 0.6292\n",
      "Epoch 14/15\n",
      "16/16 [==============================] - 0s 20ms/step - loss: 0.0026 - accuracy: 1.0000 - precision: 1.0000 - recall: 1.0000 - val_loss: 0.2976 - val_accuracy: 0.9360 - val_precision: 0.8875 - val_recall: 0.6292\n",
      "Epoch 15/15\n",
      "16/16 [==============================] - 0s 19ms/step - loss: 0.0018 - accuracy: 1.0000 - precision: 1.0000 - recall: 1.0000 - val_loss: 0.3085 - val_accuracy: 0.9360 - val_precision: 0.8875 - val_recall: 0.6292\n"
     ]
    }
   ],
   "source": [
    "# builds a simple rnn model with several layers. \n",
    "rnn = Sequential()\n",
    "rnn.add(Embedding(input_dim=len(tokenizer.index_word)+1, output_dim=32))\n",
    "rnn.add(LSTM(32, dropout=0.25, recurrent_dropout=0.25))\n",
    "rnn.add(Dense(32, activation='relu'))\n",
    "rnn.add(Dense(1, activation='sigmoid'))\n",
    "rnn.summary()\n",
    "\n",
    "# compiles the model. \n",
    "m_compile(rnn)\n",
    "\n",
    "# fits the model. \n",
    "rnn_history = m_fit(rnn)"
   ]
  },
  {
   "cell_type": "code",
   "execution_count": 71,
   "id": "4eb16fc4",
   "metadata": {},
   "outputs": [
    {
     "data": {
      "image/png": "[encoded data removed]",
      "text/plain": [
       "<Figure size 1080x216 with 2 Axes>"
      ]
     },
     "metadata": {
      "needs_background": "light"
     },
     "output_type": "display_data"
    }
   ],
   "source": [
    "# The model summaries show the number of layers and parameters for each model. \n",
    "model_info = ['layers', 'parameters']\n",
    "syntax = ['len({}.layers)', '.count_params()']\n",
    "\n",
    "def get_syntax(i, model):\n",
    "    if i == 0: \n",
    "        return len(eval('{}.layers'.format(model)))\n",
    "    else: \n",
    "        return eval(model + '.count_params()')\n",
    "\n",
    "fig, axes = plt.subplots(nrows=1, ncols=2, figsize=(15,3))\n",
    "for i in range(len(model_info)):\n",
    "    axes[i].set_title(model_info[i].title())\n",
    "    axes[i].get_xaxis().set_visible(False)\n",
    "    axes[i].bar(models[0], get_syntax(i, models[0]), label='fnn')\n",
    "    axes[i].bar(models[1], get_syntax(i, models[1]), label='cnn')\n",
    "    axes[i].bar(models[2], get_syntax(i, models[2]), label='rnn')\n",
    "plt.legend()\n",
    "plt.show()"
   ]
  },
  {
   "cell_type": "markdown",
   "id": "e77e129c",
   "metadata": {},
   "source": [
    "## 3) Evaluation"
   ]
  },
  {
   "cell_type": "markdown",
   "id": "e060ccd4",
   "metadata": {},
   "source": [
    "### Summary table"
   ]
  },
  {
   "cell_type": "markdown",
   "id": "327e34f4",
   "metadata": {},
   "source": [
    "The summary table shows how the rnn model outperforms the others when it comes to accuracy, precision and recall on the validation data."
   ]
  },
  {
   "cell_type": "code",
   "execution_count": 16,
   "id": "d3bc2054",
   "metadata": {},
   "outputs": [
    {
     "data": {
      "text/html": [
       "<div>\n",
       "<style scoped>\n",
       "    .dataframe tbody tr th:only-of-type {\n",
       "        vertical-align: middle;\n",
       "    }\n",
       "\n",
       "    .dataframe tbody tr th {\n",
       "        vertical-align: top;\n",
       "    }\n",
       "\n",
       "    .dataframe thead th {\n",
       "        text-align: right;\n",
       "    }\n",
       "</style>\n",
       "<table border=\"1\" class=\"dataframe\">\n",
       "  <thead>\n",
       "    <tr style=\"text-align: right;\">\n",
       "      <th></th>\n",
       "      <th>fnn</th>\n",
       "      <th>cnn</th>\n",
       "      <th>rnn</th>\n",
       "    </tr>\n",
       "  </thead>\n",
       "  <tbody>\n",
       "    <tr>\n",
       "      <th>accuracy</th>\n",
       "      <td>0.90</td>\n",
       "      <td>0.94</td>\n",
       "      <td>0.94</td>\n",
       "    </tr>\n",
       "    <tr>\n",
       "      <th>precision</th>\n",
       "      <td>0.69</td>\n",
       "      <td>0.89</td>\n",
       "      <td>0.89</td>\n",
       "    </tr>\n",
       "    <tr>\n",
       "      <th>recall</th>\n",
       "      <td>0.53</td>\n",
       "      <td>0.66</td>\n",
       "      <td>0.63</td>\n",
       "    </tr>\n",
       "  </tbody>\n",
       "</table>\n",
       "</div>"
      ],
      "text/plain": [
       "            fnn   cnn   rnn\n",
       "accuracy   0.90  0.94  0.94\n",
       "precision  0.69  0.89  0.89\n",
       "recall     0.53  0.66  0.63"
      ]
     },
     "execution_count": 16,
     "metadata": {},
     "output_type": "execute_result"
    }
   ],
   "source": [
    "# prints the average of the last 4 epochs.\n",
    "def model_summary(model):\n",
    "    metrics = []\n",
    "    history = model + '_history.history'\n",
    "    for i in ['accuracy', 'precision', 'recall']:\n",
    "        metrics.append(round(sum(eval(history)['val_{}'.format(i)][(epochs-4):epochs])/4,2))\n",
    "    df = pd.DataFrame() \n",
    "    df[model] = metrics\n",
    "    df.index = ['accuracy', 'precision', 'recall']\n",
    "    return df\n",
    "\n",
    "models = ['fnn', 'cnn', 'rnn']\n",
    "results = pd.DataFrame()\n",
    "\n",
    "for model in models:\n",
    "    results[model] = model_summary(model)\n",
    "    \n",
    "results"
   ]
  },
  {
   "cell_type": "markdown",
   "id": "3df89fb3",
   "metadata": {},
   "source": [
    "### Summary results"
   ]
  },
  {
   "cell_type": "code",
   "execution_count": 17,
   "id": "9e67498a",
   "metadata": {},
   "outputs": [
    {
     "data": {
      "image/png": "[encoded data removed]",
      "text/plain": [
       "<Figure size 1080x216 with 3 Axes>"
      ]
     },
     "metadata": {
      "needs_background": "light"
     },
     "output_type": "display_data"
    }
   ],
   "source": [
    "# The summary results show how the cnn and rnn model generally perform better than the ffn model. \n",
    "metrics = ['accuracy', 'precision', 'recall']\n",
    "\n",
    "fig, axes = plt.subplots(nrows=1, ncols=3, figsize=(15,3))\n",
    "for i in range(len(metrics)):\n",
    "    axes[i].set_title(metrics[i].title())\n",
    "    axes[i].get_xaxis().set_visible(False)\n",
    "    axes[i].bar(models[0], results.loc[:,'fnn'][i], label='fnn')\n",
    "    axes[i].bar(models[1], results.loc[:,'cnn'][i], label='cnn')\n",
    "    axes[i].bar(models[2], results.loc[:,'rnn'][i], label='rnn')\n",
    "plt.legend()\n",
    "plt.show()"
   ]
  },
  {
   "cell_type": "markdown",
   "id": "f0e3698b",
   "metadata": {},
   "source": [
    "### Validation results by epoch"
   ]
  },
  {
   "cell_type": "markdown",
   "id": "e74f61a0",
   "metadata": {},
   "source": [
    "The results by epoch show how the best results on the validation data are generally obtained by around the tenth epoch."
   ]
  },
  {
   "cell_type": "code",
   "execution_count": 18,
   "id": "18d7086d",
   "metadata": {},
   "outputs": [
    {
     "data": {
      "image/png": "[encoded data removed]",
      "text/plain": [
       "<Figure size 1080x216 with 3 Axes>"
      ]
     },
     "metadata": {
      "needs_background": "light"
     },
     "output_type": "display_data"
    }
   ],
   "source": [
    "# plots the results for each algorithm on the validation data by epoch. \n",
    "import matplotlib.pyplot as plt\n",
    "\n",
    "metrics = ['accuracy', 'precision', 'recall']\n",
    "\n",
    "fnn_data = pd.DataFrame()\n",
    "cnn_data = pd.DataFrame()\n",
    "rnn_data = pd.DataFrame()\n",
    "\n",
    "for metric in metrics:\n",
    "    fnn_data[metric] = fnn_history.history['val_{}'.format(metric)]\n",
    "    cnn_data[metric] = cnn_history.history['val_{}'.format(metric)]\n",
    "    rnn_data[metric] = rnn_history.history['val_{}'.format(metric)]\n",
    "    epochs = range(1, len(fnn_data) + 1)\n",
    "\n",
    "fig, axes = plt.subplots(nrows=1, ncols=3, figsize=(15,3))\n",
    "for i in range(len(metrics)):\n",
    "    axes[i].set_title(metrics[i].title())\n",
    "    axes[i].plot(epochs, fnn_data[metrics[i]], label='fnn')\n",
    "    axes[i].plot(epochs, cnn_data[metrics[i]], label='cnn')\n",
    "    axes[i].plot(epochs, rnn_data[metrics[i]], label='rnn')\n",
    "plt.legend()\n",
    "plt.show()"
   ]
  },
  {
   "cell_type": "markdown",
   "id": "879a07e5",
   "metadata": {},
   "source": [
    "### Training vs validation results"
   ]
  },
  {
   "cell_type": "code",
   "execution_count": 19,
   "id": "9632305c",
   "metadata": {},
   "outputs": [],
   "source": [
    "# defines a fucnction which plots training verses validation data to see if we are over or underfitting. \n",
    "def get_train_val(model):\n",
    "    acc = pd.DataFrame()\n",
    "    \n",
    "    for i in metrics:\n",
    "        acc[i] = eval(model + '_history.history')[i]\n",
    "        acc['val_'+i] = eval(model + '_history.history')['val_{}'.format(i)]\n",
    "        \n",
    "    acc['epoch'] = range(1, len(acc) + 1)\n",
    "    \n",
    "    fig, axes = plt.subplots(nrows=1, ncols=3, figsize=(15,3))\n",
    "    for i in range(len(metrics)):\n",
    "        axes[i].set_title(metrics[i].title())\n",
    "        axes[i].plot(acc['epoch'], acc[metrics[i]], 'b', label='Training')\n",
    "        axes[i].plot(acc['epoch'], acc['val_' + metrics[i]], 'r', label='Validation')\n",
    "    plt.legend()\n",
    "    plot = plt.show()"
   ]
  },
  {
   "cell_type": "markdown",
   "id": "f147313d",
   "metadata": {},
   "source": [
    "### 1. fnn..."
   ]
  },
  {
   "cell_type": "code",
   "execution_count": 20,
   "id": "0cbc5a8f",
   "metadata": {},
   "outputs": [
    {
     "data": {
      "image/png": "[encoded data removed]",
      "text/plain": [
       "<Figure size 1080x216 with 3 Axes>"
      ]
     },
     "metadata": {
      "needs_background": "light"
     },
     "output_type": "display_data"
    }
   ],
   "source": [
    "get_train_val('fnn')"
   ]
  },
  {
   "cell_type": "markdown",
   "id": "9668bc9d",
   "metadata": {},
   "source": [
    "### 2. cnn..."
   ]
  },
  {
   "cell_type": "code",
   "execution_count": 21,
   "id": "3bdad42a",
   "metadata": {},
   "outputs": [
    {
     "data": {
      "image/png": "[encoded data removed]",
      "text/plain": [
       "<Figure size 1080x216 with 3 Axes>"
      ]
     },
     "metadata": {
      "needs_background": "light"
     },
     "output_type": "display_data"
    }
   ],
   "source": [
    "get_train_val('cnn')"
   ]
  },
  {
   "cell_type": "markdown",
   "id": "1a56b8c5",
   "metadata": {},
   "source": [
    "### 3. rnn..."
   ]
  },
  {
   "cell_type": "code",
   "execution_count": 22,
   "id": "fa640043",
   "metadata": {},
   "outputs": [
    {
     "data": {
      "image/png": "[encoded data removed]",
      "text/plain": [
       "<Figure size 1080x216 with 3 Axes>"
      ]
     },
     "metadata": {
      "needs_background": "light"
     },
     "output_type": "display_data"
    }
   ],
   "source": [
    "get_train_val('rnn')"
   ]
  },
  {
   "cell_type": "code",
   "execution_count": 23,
   "id": "df1a87d7",
   "metadata": {},
   "outputs": [
    {
     "name": "stdout",
     "output_type": "stream",
     "text": [
      "4/4 [==============================] - 0s 3ms/step\n",
      "fnn: 11 mislabelled headlines - 8.8% of the data.\n",
      "4/4 [==============================] - 0s 3ms/step\n",
      "cnn: 7 mislabelled headlines - 5.6% of the data.\n",
      "4/4 [==============================] - 0s 4ms/step\n",
      "rnn: 8 mislabelled headlines - 6.4% of the data.\n"
     ]
    }
   ],
   "source": [
    "# locates and saves to csv the wrongly predicted headlines for each model. \n",
    "models = ['fnn', 'cnn', 'rnn']\n",
    "\n",
    "for model in models:\n",
    "    prediction = np.round(eval(model).predict(x_test_seq_padded))\n",
    "    unlisted_preds = [item for sublist in prediction for item in sublist]\n",
    "    \n",
    "    wrong_predictions = unlisted_preds != y_test\n",
    "    false_predictions = x_test[wrong_predictions]\n",
    "    \n",
    "    mis_labeled = combined_data.loc[false_predictions.index,]\n",
    "    \n",
    "    mis_labeled.to_csv('C:/Users/HUAWEI/Desktop/Exploratory data/Planet Terror/Data/mis-labeled/{}_mislabeled.csv'.format(model))\n",
    "    \n",
    "    print('{}: '.format(model) + str(len(mis_labeled)) + ' mislabelled headlines - ' + str(round(len(mis_labeled)/len(y_test)*100,2)) + '% of the data.')"
   ]
  },
  {
   "cell_type": "code",
   "execution_count": 24,
   "id": "3e11ab91",
   "metadata": {},
   "outputs": [
    {
     "data": {
      "text/html": [
       "<div>\n",
       "<style scoped>\n",
       "    .dataframe tbody tr th:only-of-type {\n",
       "        vertical-align: middle;\n",
       "    }\n",
       "\n",
       "    .dataframe tbody tr th {\n",
       "        vertical-align: top;\n",
       "    }\n",
       "\n",
       "    .dataframe thead th {\n",
       "        text-align: right;\n",
       "    }\n",
       "</style>\n",
       "<table border=\"1\" class=\"dataframe\">\n",
       "  <thead>\n",
       "    <tr style=\"text-align: right;\">\n",
       "      <th></th>\n",
       "      <th>index</th>\n",
       "      <th>Headline</th>\n",
       "    </tr>\n",
       "  </thead>\n",
       "  <tbody>\n",
       "    <tr>\n",
       "      <th>1</th>\n",
       "      <td>70</td>\n",
       "      <td>Terrorist group kills 2 members of Internal Security Forces in Daraa</td>\n",
       "    </tr>\n",
       "    <tr>\n",
       "      <th>2</th>\n",
       "      <td>42</td>\n",
       "      <td>2 PMU forces martyred in ISIL attack on Iraq's Samarra</td>\n",
       "    </tr>\n",
       "    <tr>\n",
       "      <th>3</th>\n",
       "      <td>82</td>\n",
       "      <td>Islamic State claims Nigeria bombing, says about 30 killed or hurt</td>\n",
       "    </tr>\n",
       "    <tr>\n",
       "      <th>6</th>\n",
       "      <td>175</td>\n",
       "      <td>12 YPG/PKK terrorists killed in northern Syria, Iraq</td>\n",
       "    </tr>\n",
       "    <tr>\n",
       "      <th>7</th>\n",
       "      <td>238</td>\n",
       "      <td>YPG/PKK suicide attack in Syria's Afrin foiled</td>\n",
       "    </tr>\n",
       "    <tr>\n",
       "      <th>9</th>\n",
       "      <td>28</td>\n",
       "      <td>PKK exploits out-of-school activities to recruit children</td>\n",
       "    </tr>\n",
       "  </tbody>\n",
       "</table>\n",
       "</div>"
      ],
      "text/plain": [
       "   index                                                              Headline\n",
       "1     70  Terrorist group kills 2 members of Internal Security Forces in Daraa\n",
       "2     42                2 PMU forces martyred in ISIL attack on Iraq's Samarra\n",
       "3     82    Islamic State claims Nigeria bombing, says about 30 killed or hurt\n",
       "6    175                  12 YPG/PKK terrorists killed in northern Syria, Iraq\n",
       "7    238                        YPG/PKK suicide attack in Syria's Afrin foiled\n",
       "9     28             PKK exploits out-of-school activities to recruit children"
      ]
     },
     "execution_count": 24,
     "metadata": {},
     "output_type": "execute_result"
    }
   ],
   "source": [
    "# views all the headlines which are mislabelled by at least two of our models.\n",
    "mislabeled_headlines = []\n",
    "\n",
    "for model in models:\n",
    "    mislabeled_headlines.append(pd.read_csv('C:/Users/HUAWEI/Desktop/Exploratory data/Planet Terror/Data/mis-labeled/{}_mislabeled.csv'.format(model)))\n",
    "    \n",
    "x = mislabeled_headlines[0].iloc[:,1]\n",
    "y = mislabeled_headlines[1].iloc[:,1]\n",
    "z = mislabeled_headlines[2].iloc[:,1]\n",
    "\n",
    "problem_headlines = []\n",
    "for i in x: problem_headlines.append(i in list(y) or i in list(z))\n",
    "\n",
    "df = mislabeled_headlines[0][problem_headlines].iloc[:,1:3]\n",
    "df"
   ]
  }
 ],
 "metadata": {
  "kernelspec": {
   "display_name": "Python 3 (ipykernel)",
   "language": "python",
   "name": "python3"
  },
  "language_info": {
   "codemirror_mode": {
    "name": "ipython",
    "version": 3
   },
   "file_extension": ".py",
   "mimetype": "text/x-python",
   "name": "python",
   "nbconvert_exporter": "python",
   "pygments_lexer": "ipython3",
   "version": "3.10.5"
  }
 },
 "nbformat": 4,
 "nbformat_minor": 5
}
