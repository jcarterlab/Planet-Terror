{
 "cells": [
  {
   "cell_type": "markdown",
   "id": "5714dbcd",
   "metadata": {},
   "source": [
    "# Planet Terror"
   ]
  },
  {
   "cell_type": "markdown",
   "id": "fae7d9f1",
   "metadata": {},
   "source": [
    "Jack Carter - 26/08/2022"
   ]
  },
  {
   "cell_type": "markdown",
   "id": "04adc36b",
   "metadata": {},
   "source": [
    "## Summary"
   ]
  },
  {
   "cell_type": "markdown",
   "id": "93802b19",
   "metadata": {},
   "source": [
    "This project uses a refined version of the terorrism risk headlines obtained in the author's 'Risky Business' project to determine whether neural networks can perform well on small data sets. Despite only having 128 terror event headlines to work with, the RNN model achieves an accuracy of over 90%. "
   ]
  },
  {
   "cell_type": "markdown",
   "id": "c6a3e8f6",
   "metadata": {},
   "source": [
    "## 1) Preparation"
   ]
  },
  {
   "cell_type": "markdown",
   "id": "fd53583a",
   "metadata": {},
   "source": [
    "### Import libraries & set options"
   ]
  },
  {
   "cell_type": "code",
   "execution_count": 1,
   "id": "f208a85c",
   "metadata": {},
   "outputs": [],
   "source": [
    "import numpy as np\n",
    "import pandas as pd\n",
    "from sklearn.model_selection import train_test_split\n",
    "pd.set_option('display.max_colwidth', 1000)"
   ]
  },
  {
   "cell_type": "markdown",
   "id": "a5579a9a",
   "metadata": {},
   "source": [
    "### Read in the terror events data frame"
   ]
  },
  {
   "cell_type": "markdown",
   "id": "e86bb90b",
   "metadata": {},
   "source": [
    "The terror events data frame contains roughly 120 terror event headlines combined with about 180 falseflag and around 150 other violence risk headlines. \n",
    "Falseflag headlines contain terrorism related words but do not constitute a terror event, while the other violence risk headlines include military conflict, social unrest and organized crime related news. "
   ]
  },
  {
   "cell_type": "code",
   "execution_count": 2,
   "id": "d962618a",
   "metadata": {},
   "outputs": [
    {
     "data": {
      "text/html": [
       "<div>\n",
       "<style scoped>\n",
       "    .dataframe tbody tr th:only-of-type {\n",
       "        vertical-align: middle;\n",
       "    }\n",
       "\n",
       "    .dataframe tbody tr th {\n",
       "        vertical-align: top;\n",
       "    }\n",
       "\n",
       "    .dataframe thead th {\n",
       "        text-align: right;\n",
       "    }\n",
       "</style>\n",
       "<table border=\"1\" class=\"dataframe\">\n",
       "  <thead>\n",
       "    <tr style=\"text-align: right;\">\n",
       "      <th></th>\n",
       "      <th>Headline</th>\n",
       "      <th>Category</th>\n",
       "    </tr>\n",
       "  </thead>\n",
       "  <tbody>\n",
       "    <tr>\n",
       "      <th>0</th>\n",
       "      <td>Al-Shabab terrorist attack at Somali hotel kills 20, injures 40</td>\n",
       "      <td>terrorism</td>\n",
       "    </tr>\n",
       "    <tr>\n",
       "      <th>1</th>\n",
       "      <td>Several killed in suspected ISIL attack on northeast Syria iftar</td>\n",
       "      <td>terrorism</td>\n",
       "    </tr>\n",
       "    <tr>\n",
       "      <th>2</th>\n",
       "      <td>Five Dead in Attack by Suspected FARC Dissidents in Colombia</td>\n",
       "      <td>terrorism</td>\n",
       "    </tr>\n",
       "    <tr>\n",
       "      <th>3</th>\n",
       "      <td>Terrorist attacks in Mali leave 66 dead</td>\n",
       "      <td>terrorism</td>\n",
       "    </tr>\n",
       "  </tbody>\n",
       "</table>\n",
       "</div>"
      ],
      "text/plain": [
       "                                                           Headline   Category\n",
       "0   Al-Shabab terrorist attack at Somali hotel kills 20, injures 40  terrorism\n",
       "1  Several killed in suspected ISIL attack on northeast Syria iftar  terrorism\n",
       "2      Five Dead in Attack by Suspected FARC Dissidents in Colombia  terrorism\n",
       "3                           Terrorist attacks in Mali leave 66 dead  terrorism"
      ]
     },
     "execution_count": 2,
     "metadata": {},
     "output_type": "execute_result"
    }
   ],
   "source": [
    "# creates a risks data set with terrorism and non-terrorism headlines. \n",
    "terror_events = pd.read_csv('C:/Users/HUAWEI/Desktop/Exploratory data/Planet Terror/Data/terror_events.csv', encoding = 'ISO-8859-1')\n",
    "\n",
    "# view sample headlines:\n",
    "terror_events.head(4)"
   ]
  },
  {
   "cell_type": "markdown",
   "id": "3b1f2dd8",
   "metadata": {},
   "source": [
    "### Read in the random data frame"
   ]
  },
  {
   "cell_type": "markdown",
   "id": "c88201a3",
   "metadata": {},
   "source": [
    "The random data frame contains a variety of headlines from online papers across the world which did not score anything in terms of violence risks on the author's previous 'Risky Business' project. "
   ]
  },
  {
   "cell_type": "code",
   "execution_count": 3,
   "id": "1f13470a",
   "metadata": {},
   "outputs": [
    {
     "data": {
      "text/html": [
       "<div>\n",
       "<style scoped>\n",
       "    .dataframe tbody tr th:only-of-type {\n",
       "        vertical-align: middle;\n",
       "    }\n",
       "\n",
       "    .dataframe tbody tr th {\n",
       "        vertical-align: top;\n",
       "    }\n",
       "\n",
       "    .dataframe thead th {\n",
       "        text-align: right;\n",
       "    }\n",
       "</style>\n",
       "<table border=\"1\" class=\"dataframe\">\n",
       "  <thead>\n",
       "    <tr style=\"text-align: right;\">\n",
       "      <th></th>\n",
       "      <th>Headline</th>\n",
       "      <th>Category</th>\n",
       "    </tr>\n",
       "  </thead>\n",
       "  <tbody>\n",
       "    <tr>\n",
       "      <th>441</th>\n",
       "      <td>Artefacts come to life after dark at selected museums this school holiday</td>\n",
       "      <td>random</td>\n",
       "    </tr>\n",
       "    <tr>\n",
       "      <th>366</th>\n",
       "      <td>LASUED VC seeks lasting solutions to sickle cell disorder</td>\n",
       "      <td>random</td>\n",
       "    </tr>\n",
       "    <tr>\n",
       "      <th>91</th>\n",
       "      <td>Paulo Mendes da Rocha leaves behind incomparable legacy in Brazilian architecture</td>\n",
       "      <td>random</td>\n",
       "    </tr>\n",
       "    <tr>\n",
       "      <th>79</th>\n",
       "      <td>Samsung Opens 3 New Stores in Meknes4 Tamara and Marrakech</td>\n",
       "      <td>random</td>\n",
       "    </tr>\n",
       "  </tbody>\n",
       "</table>\n",
       "</div>"
      ],
      "text/plain": [
       "                                                                              Headline  \\\n",
       "441          Artefacts come to life after dark at selected museums this school holiday   \n",
       "366                          LASUED VC seeks lasting solutions to sickle cell disorder   \n",
       "91   Paulo Mendes da Rocha leaves behind incomparable legacy in Brazilian architecture   \n",
       "79                          Samsung Opens 3 New Stores in Meknes4 Tamara and Marrakech   \n",
       "\n",
       "    Category  \n",
       "441   random  \n",
       "366   random  \n",
       "91    random  \n",
       "79    random  "
      ]
     },
     "execution_count": 3,
     "metadata": {},
     "output_type": "execute_result"
    }
   ],
   "source": [
    "# creates a random data set. \n",
    "# these random headlines give the algorithm a clear idea of what isn't terrorism. \n",
    "random_data = pd.read_csv('C:/Users/HUAWEI/Desktop/Exploratory data/Planet Terror/Data/random_headlines.csv', encoding = 'ISO-8859-1')\n",
    "random_df = random_data.sample(100)\n",
    "random_df.iloc[:,0:2].head(4)"
   ]
  },
  {
   "cell_type": "markdown",
   "id": "9b1e65c5",
   "metadata": {},
   "source": [
    "### Combine the data"
   ]
  },
  {
   "cell_type": "code",
   "execution_count": 4,
   "id": "94200afb",
   "metadata": {},
   "outputs": [
    {
     "data": {
      "text/plain": [
       "falseflag            177\n",
       "terrorism            127\n",
       "random               100\n",
       "military_conflict     84\n",
       "social_unrest         68\n",
       "organized_crime       61\n",
       "Name: Category, dtype: int64"
      ]
     },
     "execution_count": 4,
     "metadata": {},
     "output_type": "execute_result"
    }
   ],
   "source": [
    "# creates a combined data frame, drops duplicates and checks how many of each headlines type.\n",
    "combined_data = pd.concat([terror_events, random_df.iloc[:,0:2]]).reset_index()\n",
    "unique = combined_data.loc[:,'Headline'].drop_duplicates().index\n",
    "df = combined_data.iloc[unique,:]\n",
    "df.Category.value_counts()"
   ]
  },
  {
   "cell_type": "markdown",
   "id": "ce63d277",
   "metadata": {},
   "source": [
    "### Re-assign labels"
   ]
  },
  {
   "cell_type": "code",
   "execution_count": 5,
   "id": "9a03b32b",
   "metadata": {
    "scrolled": true
   },
   "outputs": [
    {
     "data": {
      "text/plain": [
       "none         495\n",
       "terrorism    128\n",
       "Name: Category, dtype: int64"
      ]
     },
     "execution_count": 5,
     "metadata": {},
     "output_type": "execute_result"
    }
   ],
   "source": [
    "# checks how many terrorism vs non-terrorism headlines we have.\n",
    "target = 'terrorism'\n",
    "combined_data.loc[combined_data['Category'] != target, 'Category'] = 'none'\n",
    "combined_data.Category.value_counts()"
   ]
  },
  {
   "cell_type": "code",
   "execution_count": 6,
   "id": "a82cb2e9",
   "metadata": {},
   "outputs": [
    {
     "name": "stdout",
     "output_type": "stream",
     "text": [
      "The ratio of terror headlines is: 26.0%\n"
     ]
    }
   ],
   "source": [
    "# checks the percentage of terrorism vs non-terrorism headlines. \n",
    "non_terror = len(combined_data.loc[combined_data['Category'] != target, 'Category'])\n",
    "terror = len(combined_data.loc[combined_data['Category'] == target, 'Category'])\n",
    "\n",
    "print('The ratio of terror headlines is: ' + str(round(terror/non_terror, 2)*100) + '%')"
   ]
  },
  {
   "cell_type": "markdown",
   "id": "4b848c81",
   "metadata": {},
   "source": [
    "### Split into training and test sets"
   ]
  },
  {
   "cell_type": "code",
   "execution_count": 7,
   "id": "b262fee6",
   "metadata": {},
   "outputs": [
    {
     "name": "stdout",
     "output_type": "stream",
     "text": [
      "Dataset has 80.0% of the data.\n",
      "Dataset has 20.0% of the data.\n"
     ]
    }
   ],
   "source": [
    "# splits the data into train and test sets and prints the percentage of headlines in each data set. \n",
    "x = combined_data['Headline']\n",
    "y = np.where(combined_data['Category'] == target, 1, 0)\n",
    "\n",
    "x_train, x_test, y_train, y_test = train_test_split(x, y, test_size=0.2, random_state=2007)\n",
    "\n",
    "for dataset in [x_train, x_test]:\n",
    "    print('Dataset has {}{} of the data.'.format((round(len(dataset) / len(combined_data['Headline']), 2))*100, '%'))"
   ]
  },
  {
   "cell_type": "markdown",
   "id": "a8e20395",
   "metadata": {},
   "source": [
    "### Convert headlines to sequences"
   ]
  },
  {
   "cell_type": "markdown",
   "id": "97e4c58d",
   "metadata": {},
   "source": [
    "The headlines are converted to sequences where each unique word has its own number."
   ]
  },
  {
   "cell_type": "code",
   "execution_count": 8,
   "id": "e3d20f33",
   "metadata": {},
   "outputs": [
    {
     "data": {
      "text/plain": [
       "[39, 350, 621, 27, 622, 623, 2, 112, 351]"
      ]
     },
     "execution_count": 8,
     "metadata": {},
     "output_type": "execute_result"
    }
   ],
   "source": [
    "# 'fit_on_texts' assigns a unique number for each word in our vocab.\n",
    "# 'texts_to_sequences' replaces each headline with a number sequence. \n",
    "from keras.preprocessing.text import Tokenizer\n",
    "from keras.utils.data_utils import pad_sequences\n",
    "\n",
    "tokenizer = Tokenizer()\n",
    "tokenizer.fit_on_texts(x_train)\n",
    "\n",
    "x_train_seq = tokenizer.texts_to_sequences(x_train)\n",
    "x_test_seq = tokenizer.texts_to_sequences(x_test)\n",
    "\n",
    "# views a sample sequence:\n",
    "x_train_seq[0]"
   ]
  },
  {
   "cell_type": "markdown",
   "id": "0a267f95",
   "metadata": {},
   "source": [
    "### Pad sequences"
   ]
  },
  {
   "cell_type": "markdown",
   "id": "82d32587",
   "metadata": {},
   "source": [
    "The sequences are then padded with extra zeros at the beginning to ensure the same length for the machine learning process. If any headlines are longer than the limit of 30 set here, only the last 30 words are used."
   ]
  },
  {
   "cell_type": "code",
   "execution_count": 9,
   "id": "f5d4a716",
   "metadata": {},
   "outputs": [
    {
     "data": {
      "text/plain": [
       "array([  0,   0,   0,   0,   0,   0,   0,   0,   0,   0,   0,   0,   0,\n",
       "         0,   0,   0,   0,   0,   0,   0,   0,  39, 350, 621,  27, 622,\n",
       "       623,   2, 112, 351])"
      ]
     },
     "execution_count": 9,
     "metadata": {},
     "output_type": "execute_result"
    }
   ],
   "source": [
    "# 'pad_sequences' adds zeros to begining of all sequences untill each is equal to our max length (50).\n",
    "# this is needed to ensure we have matrices of the same length later on in the process. \n",
    "x_train_seq_padded = pad_sequences(x_train_seq, 30)\n",
    "x_test_seq_padded = pad_sequences(x_test_seq, 30)\n",
    "\n",
    "# view a sample padded sequence:\n",
    "x_train_seq_padded[0]"
   ]
  },
  {
   "cell_type": "markdown",
   "id": "8edfdeb5",
   "metadata": {},
   "source": [
    "## 2) Training"
   ]
  },
  {
   "cell_type": "markdown",
   "id": "1786c51b",
   "metadata": {},
   "source": [
    "### Import libraries and define functions"
   ]
  },
  {
   "cell_type": "markdown",
   "id": "352b65aa",
   "metadata": {},
   "source": [
    "Two functions are defined to give us the recall and precision evaluation metrics. Another two are defined to compile and fit our test models, including the feed-forward, convolutional and recurrent neural network models."
   ]
  },
  {
   "cell_type": "code",
   "execution_count": 10,
   "id": "3b5eb9e0",
   "metadata": {},
   "outputs": [],
   "source": [
    "# imports functions and defines two functions to test recall and precision.  \n",
    "import keras.backend as K\n",
    "from keras import layers\n",
    "from keras.layers import Dense, Embedding, Conv1D, LSTM\n",
    "from keras.models import Sequential\n",
    "\n",
    "epochs = 15\n",
    "\n",
    "def recall(y_true, y_pred):\n",
    "    true_positives = K.sum(K.round(K.clip(y_true * y_pred, 0, 1)))\n",
    "    possible_positives = K.sum(K.round(K.clip(y_true, 0, 1)))\n",
    "    recall = true_positives / (possible_positives + K.epsilon()) \n",
    "    return recall\n",
    "\n",
    "def precision(y_true, y_pred):\n",
    "    true_positives = K.sum(K.round(K.clip(y_true * y_pred, 0, 1)))\n",
    "    predicted_positives = K.sum(K.round(K.clip(y_pred, 0, 1)))\n",
    "    precision = true_positives / (predicted_positives + K.epsilon()) \n",
    "    return precision\n",
    "\n",
    "def m_compile(model):\n",
    "    model.compile(optimizer='adam',\n",
    "              loss='binary_crossentropy',\n",
    "              metrics=['accuracy', precision, recall])\n",
    "    \n",
    "def m_fit(model):\n",
    "    history = model.fit(x_train_seq_padded, y_train, \n",
    "                    batch_size=32, epochs=epochs,\n",
    "                    validation_data=(x_test_seq_padded, y_test))\n",
    "    return history"
   ]
  },
  {
   "cell_type": "markdown",
   "id": "3ecf2eeb",
   "metadata": {},
   "source": [
    "### The feed-forward model (fnn)"
   ]
  },
  {
   "cell_type": "markdown",
   "id": "c737ad3f",
   "metadata": {},
   "source": [
    "The feed-forward model is the first and most simple type of neural network model. It works by feeding inputs forward from one node to another while attemping to maximise accuracy and minimize error."
   ]
  },
  {
   "cell_type": "code",
   "execution_count": 11,
   "id": "7906d1f7",
   "metadata": {},
   "outputs": [
    {
     "name": "stdout",
     "output_type": "stream",
     "text": [
      "Model: \"sequential\"\n",
      "_________________________________________________________________\n",
      " Layer (type)                Output Shape              Param #   \n",
      "=================================================================\n",
      " embedding (Embedding)       (None, None, 32)          61696     \n",
      "                                                                 \n",
      " global_max_pooling1d (Globa  (None, 32)               0         \n",
      " lMaxPooling1D)                                                  \n",
      "                                                                 \n",
      " dense (Dense)               (None, 32)                1056      \n",
      "                                                                 \n",
      " dense_1 (Dense)             (None, 1)                 33        \n",
      "                                                                 \n",
      "=================================================================\n",
      "Total params: 62,785\n",
      "Trainable params: 62,785\n",
      "Non-trainable params: 0\n",
      "_________________________________________________________________\n",
      "Epoch 1/15\n",
      "16/16 [==============================] - 1s 15ms/step - loss: 0.6767 - accuracy: 0.7269 - precision: 0.0286 - recall: 0.0781 - val_loss: 0.6473 - val_accuracy: 0.8640 - val_precision: 0.0000e+00 - val_recall: 0.0000e+00\n",
      "Epoch 2/15\n",
      "16/16 [==============================] - 0s 4ms/step - loss: 0.6362 - accuracy: 0.7771 - precision: 0.0000e+00 - recall: 0.0000e+00 - val_loss: 0.6016 - val_accuracy: 0.8640 - val_precision: 0.0000e+00 - val_recall: 0.0000e+00\n",
      "Epoch 3/15\n",
      "16/16 [==============================] - 0s 4ms/step - loss: 0.5955 - accuracy: 0.7771 - precision: 0.0000e+00 - recall: 0.0000e+00 - val_loss: 0.5500 - val_accuracy: 0.8640 - val_precision: 0.0000e+00 - val_recall: 0.0000e+00\n",
      "Epoch 4/15\n",
      "16/16 [==============================] - 0s 3ms/step - loss: 0.5495 - accuracy: 0.7771 - precision: 0.0000e+00 - recall: 0.0000e+00 - val_loss: 0.4951 - val_accuracy: 0.8640 - val_precision: 0.0000e+00 - val_recall: 0.0000e+00\n",
      "Epoch 5/15\n",
      "16/16 [==============================] - 0s 4ms/step - loss: 0.5021 - accuracy: 0.7771 - precision: 0.0000e+00 - recall: 0.0000e+00 - val_loss: 0.4491 - val_accuracy: 0.8640 - val_precision: 0.0000e+00 - val_recall: 0.0000e+00\n",
      "Epoch 6/15\n",
      "16/16 [==============================] - 0s 3ms/step - loss: 0.4628 - accuracy: 0.7771 - precision: 0.0000e+00 - recall: 0.0000e+00 - val_loss: 0.4105 - val_accuracy: 0.8640 - val_precision: 0.0000e+00 - val_recall: 0.0000e+00\n",
      "Epoch 7/15\n",
      "16/16 [==============================] - 0s 3ms/step - loss: 0.4246 - accuracy: 0.7771 - precision: 0.0000e+00 - recall: 0.0000e+00 - val_loss: 0.3833 - val_accuracy: 0.8640 - val_precision: 0.0000e+00 - val_recall: 0.0000e+00\n",
      "Epoch 8/15\n",
      "16/16 [==============================] - 0s 4ms/step - loss: 0.3850 - accuracy: 0.7771 - precision: 0.0000e+00 - recall: 0.0000e+00 - val_loss: 0.3615 - val_accuracy: 0.8640 - val_precision: 0.0000e+00 - val_recall: 0.0000e+00\n",
      "Epoch 9/15\n",
      "16/16 [==============================] - 0s 4ms/step - loss: 0.3394 - accuracy: 0.7771 - precision: 0.0000e+00 - recall: 0.0000e+00 - val_loss: 0.3405 - val_accuracy: 0.8640 - val_precision: 0.0000e+00 - val_recall: 0.0000e+00\n",
      "Epoch 10/15\n",
      "16/16 [==============================] - 0s 4ms/step - loss: 0.2864 - accuracy: 0.8434 - precision: 0.8125 - recall: 0.3045 - val_loss: 0.3209 - val_accuracy: 0.8960 - val_precision: 0.7500 - val_recall: 0.2167\n",
      "Epoch 11/15\n",
      "16/16 [==============================] - 0s 3ms/step - loss: 0.2325 - accuracy: 0.9237 - precision: 0.9375 - recall: 0.6399 - val_loss: 0.3064 - val_accuracy: 0.9200 - val_precision: 0.6250 - val_recall: 0.4625\n",
      "Epoch 12/15\n",
      "16/16 [==============================] - 0s 4ms/step - loss: 0.1850 - accuracy: 0.9719 - precision: 1.0000 - recall: 0.8642 - val_loss: 0.2971 - val_accuracy: 0.9120 - val_precision: 0.5875 - val_recall: 0.4625\n",
      "Epoch 13/15\n",
      "16/16 [==============================] - 0s 4ms/step - loss: 0.1450 - accuracy: 0.9779 - precision: 1.0000 - recall: 0.9176 - val_loss: 0.2907 - val_accuracy: 0.9120 - val_precision: 0.5208 - val_recall: 0.5542\n",
      "Epoch 14/15\n",
      "16/16 [==============================] - 0s 4ms/step - loss: 0.1132 - accuracy: 0.9900 - precision: 1.0000 - recall: 0.9559 - val_loss: 0.2874 - val_accuracy: 0.9040 - val_precision: 0.4970 - val_recall: 0.5542\n",
      "Epoch 15/15\n",
      "16/16 [==============================] - 0s 4ms/step - loss: 0.0885 - accuracy: 0.9920 - precision: 0.9375 - recall: 0.9115 - val_loss: 0.2873 - val_accuracy: 0.8880 - val_precision: 0.4357 - val_recall: 0.5542\n"
     ]
    }
   ],
   "source": [
    "# builds a simple fnn model with several layers. \n",
    "fnn = Sequential()\n",
    "fnn.add(Embedding(input_dim=len(tokenizer.index_word)+1, output_dim=32))\n",
    "fnn.add(layers.GlobalMaxPooling1D())\n",
    "fnn.add(Dense(32, activation='relu'))\n",
    "fnn.add(Dense(1, activation='sigmoid'))\n",
    "fnn.summary()\n",
    "\n",
    "# compiles the model. \n",
    "m_compile(fnn)\n",
    "\n",
    "# fits the model. \n",
    "fnn_history = m_fit(fnn)"
   ]
  },
  {
   "cell_type": "markdown",
   "id": "91d71234",
   "metadata": {},
   "source": [
    "### The convolutional model (cnn)"
   ]
  },
  {
   "cell_type": "markdown",
   "id": "216431e3",
   "metadata": {},
   "source": [
    "The convolutional model is a type of feed-forward neural network which extracts features from filters, creates feature maps and then pools the output (downsamples the feature map's dimensionality) to better generalize the results. "
   ]
  },
  {
   "cell_type": "code",
   "execution_count": 12,
   "id": "5adb56dc",
   "metadata": {},
   "outputs": [
    {
     "name": "stdout",
     "output_type": "stream",
     "text": [
      "Epoch 1/15\n",
      "16/16 [==============================] - 1s 21ms/step - loss: 0.6487 - accuracy: 0.7651 - precision: 0.0208 - recall: 0.0234 - val_loss: 0.5474 - val_accuracy: 0.8640 - val_precision: 0.0000e+00 - val_recall: 0.0000e+00\n",
      "Epoch 2/15\n",
      "16/16 [==============================] - 0s 6ms/step - loss: 0.5373 - accuracy: 0.7771 - precision: 0.0000e+00 - recall: 0.0000e+00 - val_loss: 0.4085 - val_accuracy: 0.8640 - val_precision: 0.0000e+00 - val_recall: 0.0000e+00\n",
      "Epoch 3/15\n",
      "16/16 [==============================] - 0s 6ms/step - loss: 0.5127 - accuracy: 0.7771 - precision: 0.0000e+00 - recall: 0.0000e+00 - val_loss: 0.3966 - val_accuracy: 0.8640 - val_precision: 0.0000e+00 - val_recall: 0.0000e+00\n",
      "Epoch 4/15\n",
      "16/16 [==============================] - 0s 6ms/step - loss: 0.4721 - accuracy: 0.7771 - precision: 0.0000e+00 - recall: 0.0000e+00 - val_loss: 0.3879 - val_accuracy: 0.8640 - val_precision: 0.0000e+00 - val_recall: 0.0000e+00\n",
      "Epoch 5/15\n",
      "16/16 [==============================] - 0s 6ms/step - loss: 0.3973 - accuracy: 0.7892 - precision: 0.1875 - recall: 0.0576 - val_loss: 0.3349 - val_accuracy: 0.8960 - val_precision: 0.7500 - val_recall: 0.2167\n",
      "Epoch 6/15\n",
      "16/16 [==============================] - 0s 6ms/step - loss: 0.2838 - accuracy: 0.9076 - precision: 0.9375 - recall: 0.5710 - val_loss: 0.2507 - val_accuracy: 0.9280 - val_precision: 0.7000 - val_recall: 0.4542\n",
      "Epoch 7/15\n",
      "16/16 [==============================] - 0s 6ms/step - loss: 0.1673 - accuracy: 0.9598 - precision: 1.0000 - recall: 0.8216 - val_loss: 0.2057 - val_accuracy: 0.9520 - val_precision: 0.9583 - val_recall: 0.6708\n",
      "Epoch 8/15\n",
      "16/16 [==============================] - 0s 7ms/step - loss: 0.0815 - accuracy: 0.9900 - precision: 0.9911 - recall: 0.9701 - val_loss: 0.1854 - val_accuracy: 0.9440 - val_precision: 0.8958 - val_recall: 0.6708\n",
      "Epoch 9/15\n",
      "16/16 [==============================] - 0s 6ms/step - loss: 0.0385 - accuracy: 1.0000 - precision: 1.0000 - recall: 1.0000 - val_loss: 0.1869 - val_accuracy: 0.9440 - val_precision: 0.8958 - val_recall: 0.6708\n",
      "Epoch 10/15\n",
      "16/16 [==============================] - 0s 6ms/step - loss: 0.0204 - accuracy: 1.0000 - precision: 1.0000 - recall: 1.0000 - val_loss: 0.1956 - val_accuracy: 0.9440 - val_precision: 0.8958 - val_recall: 0.6708\n",
      "Epoch 11/15\n",
      "16/16 [==============================] - 0s 7ms/step - loss: 0.0125 - accuracy: 1.0000 - precision: 1.0000 - recall: 1.0000 - val_loss: 0.2030 - val_accuracy: 0.9360 - val_precision: 0.7708 - val_recall: 0.6708\n",
      "Epoch 12/15\n",
      "16/16 [==============================] - 0s 6ms/step - loss: 0.0084 - accuracy: 1.0000 - precision: 1.0000 - recall: 1.0000 - val_loss: 0.2107 - val_accuracy: 0.9360 - val_precision: 0.7708 - val_recall: 0.6708\n",
      "Epoch 13/15\n",
      "16/16 [==============================] - 0s 6ms/step - loss: 0.0061 - accuracy: 1.0000 - precision: 1.0000 - recall: 1.0000 - val_loss: 0.2175 - val_accuracy: 0.9360 - val_precision: 0.7708 - val_recall: 0.6708\n",
      "Epoch 14/15\n",
      "16/16 [==============================] - 0s 6ms/step - loss: 0.0047 - accuracy: 1.0000 - precision: 1.0000 - recall: 1.0000 - val_loss: 0.2232 - val_accuracy: 0.9360 - val_precision: 0.7708 - val_recall: 0.6708\n",
      "Epoch 15/15\n",
      "16/16 [==============================] - 0s 6ms/step - loss: 0.0037 - accuracy: 1.0000 - precision: 1.0000 - recall: 1.0000 - val_loss: 0.2289 - val_accuracy: 0.9360 - val_precision: 0.7708 - val_recall: 0.6708\n"
     ]
    }
   ],
   "source": [
    "# builds a simple cnn model with several layers. \n",
    "cnn = Sequential()\n",
    "cnn.add(layers.Embedding(len(tokenizer.index_word)+1, 50, input_length=30))\n",
    "cnn.add(layers.Conv1D(32, 8, activation='relu'))\n",
    "cnn.add(layers.GlobalMaxPooling1D())\n",
    "cnn.add(layers.Dense(10, activation='relu'))\n",
    "cnn.add(layers.Dense(1, activation='sigmoid'))\n",
    "\n",
    "# compiles the model. \n",
    "m_compile(cnn)\n",
    "\n",
    "# fits the model. \n",
    "cnn_history = m_fit(cnn)"
   ]
  },
  {
   "cell_type": "markdown",
   "id": "6d0e7c95",
   "metadata": {},
   "source": [
    "### The recurrent model (rnn)"
   ]
  },
  {
   "cell_type": "markdown",
   "id": "080da0a2",
   "metadata": {},
   "source": [
    "The recurrent model is a type of neural network which remembers and takes into account previous inputs when passing information through the network. This makes it more effective at understanding sequences and therefore the context of sentences."
   ]
  },
  {
   "cell_type": "code",
   "execution_count": 13,
   "id": "83187842",
   "metadata": {},
   "outputs": [
    {
     "name": "stdout",
     "output_type": "stream",
     "text": [
      "Epoch 1/15\n",
      "16/16 [==============================] - 4s 48ms/step - loss: 0.6734 - accuracy: 0.7430 - precision: 0.0906 - recall: 0.0819 - val_loss: 0.5903 - val_accuracy: 0.8640 - val_precision: 0.0000e+00 - val_recall: 0.0000e+00\n",
      "Epoch 2/15\n",
      "16/16 [==============================] - 0s 19ms/step - loss: 0.5469 - accuracy: 0.7771 - precision: 0.0000e+00 - recall: 0.0000e+00 - val_loss: 0.3955 - val_accuracy: 0.8640 - val_precision: 0.0000e+00 - val_recall: 0.0000e+00\n",
      "Epoch 3/15\n",
      "16/16 [==============================] - 0s 19ms/step - loss: 0.5288 - accuracy: 0.7771 - precision: 0.0000e+00 - recall: 0.0000e+00 - val_loss: 0.4138 - val_accuracy: 0.8640 - val_precision: 0.0000e+00 - val_recall: 0.0000e+00\n",
      "Epoch 4/15\n",
      "16/16 [==============================] - 0s 20ms/step - loss: 0.4983 - accuracy: 0.7771 - precision: 0.0000e+00 - recall: 0.0000e+00 - val_loss: 0.3875 - val_accuracy: 0.8640 - val_precision: 0.0000e+00 - val_recall: 0.0000e+00\n",
      "Epoch 5/15\n",
      "16/16 [==============================] - 0s 20ms/step - loss: 0.4284 - accuracy: 0.7811 - precision: 0.1250 - recall: 0.0167 - val_loss: 0.3115 - val_accuracy: 0.8720 - val_precision: 0.2500 - val_recall: 0.0625\n",
      "Epoch 6/15\n",
      "16/16 [==============================] - 0s 20ms/step - loss: 0.2859 - accuracy: 0.8815 - precision: 0.8125 - recall: 0.4582 - val_loss: 0.2141 - val_accuracy: 0.9360 - val_precision: 0.7500 - val_recall: 0.4625\n",
      "Epoch 7/15\n",
      "16/16 [==============================] - 0s 20ms/step - loss: 0.1488 - accuracy: 0.9598 - precision: 0.8986 - recall: 0.8260 - val_loss: 0.2272 - val_accuracy: 0.9280 - val_precision: 0.7500 - val_recall: 0.4208\n",
      "Epoch 8/15\n",
      "16/16 [==============================] - 0s 19ms/step - loss: 0.0844 - accuracy: 0.9719 - precision: 0.9557 - recall: 0.9170 - val_loss: 0.1852 - val_accuracy: 0.9440 - val_precision: 0.8875 - val_recall: 0.6917\n",
      "Epoch 9/15\n",
      "16/16 [==============================] - 0s 19ms/step - loss: 0.0510 - accuracy: 0.9859 - precision: 0.9653 - recall: 0.9826 - val_loss: 0.1886 - val_accuracy: 0.9440 - val_precision: 0.8875 - val_recall: 0.6917\n",
      "Epoch 10/15\n",
      "16/16 [==============================] - 0s 19ms/step - loss: 0.0216 - accuracy: 0.9980 - precision: 1.0000 - recall: 0.9911 - val_loss: 0.2161 - val_accuracy: 0.9440 - val_precision: 0.9500 - val_recall: 0.6292\n",
      "Epoch 11/15\n",
      "16/16 [==============================] - 0s 20ms/step - loss: 0.0188 - accuracy: 0.9940 - precision: 0.9792 - recall: 0.9931 - val_loss: 0.2256 - val_accuracy: 0.9440 - val_precision: 0.9500 - val_recall: 0.6292\n",
      "Epoch 12/15\n",
      "16/16 [==============================] - 0s 20ms/step - loss: 0.0245 - accuracy: 0.9900 - precision: 0.9895 - recall: 0.9796 - val_loss: 0.2119 - val_accuracy: 0.9360 - val_precision: 0.8875 - val_recall: 0.6292\n",
      "Epoch 13/15\n",
      "16/16 [==============================] - 0s 19ms/step - loss: 0.0105 - accuracy: 0.9980 - precision: 1.0000 - recall: 0.9922 - val_loss: 0.2200 - val_accuracy: 0.9360 - val_precision: 0.8375 - val_recall: 0.6917\n",
      "Epoch 14/15\n",
      "16/16 [==============================] - 0s 20ms/step - loss: 0.0057 - accuracy: 1.0000 - precision: 1.0000 - recall: 1.0000 - val_loss: 0.2288 - val_accuracy: 0.9440 - val_precision: 0.9500 - val_recall: 0.6292\n",
      "Epoch 15/15\n",
      "16/16 [==============================] - 0s 19ms/step - loss: 0.0035 - accuracy: 1.0000 - precision: 1.0000 - recall: 1.0000 - val_loss: 0.2363 - val_accuracy: 0.9440 - val_precision: 0.9500 - val_recall: 0.6292\n"
     ]
    }
   ],
   "source": [
    "# builds a simple rnn model with several layers. \n",
    "rnn = Sequential()\n",
    "rnn.add(Embedding(input_dim=len(tokenizer.index_word)+1, output_dim=32))\n",
    "rnn.add(LSTM(32, dropout=0.25, recurrent_dropout=0.25))\n",
    "rnn.add(Dense(32, activation='relu'))\n",
    "rnn.add(Dense(1, activation='sigmoid'))\n",
    "\n",
    "# compiles the model. \n",
    "m_compile(rnn)\n",
    "\n",
    "# fits the model. \n",
    "rnn_history = m_fit(rnn)"
   ]
  },
  {
   "cell_type": "markdown",
   "id": "e77e129c",
   "metadata": {},
   "source": [
    "## 3) Evaluation"
   ]
  },
  {
   "cell_type": "markdown",
   "id": "e060ccd4",
   "metadata": {},
   "source": [
    "### Summary table"
   ]
  },
  {
   "cell_type": "markdown",
   "id": "327e34f4",
   "metadata": {},
   "source": [
    "The summary table shows how the rnn model outperforms the others when it comes to accuracy, precision and recall on the validation data."
   ]
  },
  {
   "cell_type": "code",
   "execution_count": 14,
   "id": "d3bc2054",
   "metadata": {},
   "outputs": [
    {
     "data": {
      "text/html": [
       "<div>\n",
       "<style scoped>\n",
       "    .dataframe tbody tr th:only-of-type {\n",
       "        vertical-align: middle;\n",
       "    }\n",
       "\n",
       "    .dataframe tbody tr th {\n",
       "        vertical-align: top;\n",
       "    }\n",
       "\n",
       "    .dataframe thead th {\n",
       "        text-align: right;\n",
       "    }\n",
       "</style>\n",
       "<table border=\"1\" class=\"dataframe\">\n",
       "  <thead>\n",
       "    <tr style=\"text-align: right;\">\n",
       "      <th></th>\n",
       "      <th>fnn</th>\n",
       "      <th>cnn</th>\n",
       "      <th>rnn</th>\n",
       "    </tr>\n",
       "  </thead>\n",
       "  <tbody>\n",
       "    <tr>\n",
       "      <th>accuracy</th>\n",
       "      <td>0.90</td>\n",
       "      <td>0.94</td>\n",
       "      <td>0.94</td>\n",
       "    </tr>\n",
       "    <tr>\n",
       "      <th>precision</th>\n",
       "      <td>0.51</td>\n",
       "      <td>0.77</td>\n",
       "      <td>0.91</td>\n",
       "    </tr>\n",
       "    <tr>\n",
       "      <th>recall</th>\n",
       "      <td>0.53</td>\n",
       "      <td>0.67</td>\n",
       "      <td>0.64</td>\n",
       "    </tr>\n",
       "  </tbody>\n",
       "</table>\n",
       "</div>"
      ],
      "text/plain": [
       "            fnn   cnn   rnn\n",
       "accuracy   0.90  0.94  0.94\n",
       "precision  0.51  0.77  0.91\n",
       "recall     0.53  0.67  0.64"
      ]
     },
     "execution_count": 14,
     "metadata": {},
     "output_type": "execute_result"
    }
   ],
   "source": [
    "# prints the average of the last 4 epochs.\n",
    "import matplotlib.pyplot as plt\n",
    "\n",
    "def model_summary(model):\n",
    "    metrics = []\n",
    "    history = model + '_history.history'\n",
    "    for i in ['accuracy', 'precision', 'recall']:\n",
    "        metrics.append(round(sum(eval(history)['val_{}'.format(i)][(epochs-4):epochs])/4,2))\n",
    "    df = pd.DataFrame() \n",
    "    df[model] = metrics\n",
    "    df.index = ['accuracy', 'precision', 'recall']\n",
    "    return df\n",
    "\n",
    "models = ['fnn', 'cnn', 'rnn']\n",
    "results = pd.DataFrame()\n",
    "\n",
    "for model in models:\n",
    "    results[model] = model_summary(model)\n",
    "    \n",
    "results"
   ]
  },
  {
   "cell_type": "markdown",
   "id": "f0e3698b",
   "metadata": {},
   "source": [
    "### Validation results by epoch"
   ]
  },
  {
   "cell_type": "markdown",
   "id": "e74f61a0",
   "metadata": {},
   "source": [
    "The results by epoch show how the best results on the validation data are generally obtained by around the tenth epoch."
   ]
  },
  {
   "cell_type": "code",
   "execution_count": 15,
   "id": "18d7086d",
   "metadata": {},
   "outputs": [
    {
     "data": {
      "image/png": "[encoded data removed]",
      "text/plain": [
       "<Figure size 1080x216 with 3 Axes>"
      ]
     },
     "metadata": {
      "needs_background": "light"
     },
     "output_type": "display_data"
    }
   ],
   "source": [
    "# plots the results for each algorithm on the validation data by epoch. \n",
    "import matplotlib.pyplot as plt\n",
    "\n",
    "metrics = ['accuracy', 'precision', 'recall']\n",
    "\n",
    "fnn_data = pd.DataFrame()\n",
    "cnn_data = pd.DataFrame()\n",
    "rnn_data = pd.DataFrame()\n",
    "\n",
    "for metric in metrics:\n",
    "    fnn_data[metric] = fnn_history.history['val_{}'.format(metric)]\n",
    "    cnn_data[metric] = cnn_history.history['val_{}'.format(metric)]\n",
    "    rnn_data[metric] = rnn_history.history['val_{}'.format(metric)]\n",
    "    epochs = range(1, len(fnn_data) + 1)\n",
    "\n",
    "fig, axes = plt.subplots(nrows=1, ncols=3, figsize=(15,3))\n",
    "for i in range(len(metrics)):\n",
    "    axes[i].set_title(metrics[i].title())\n",
    "    axes[i].plot(epochs, fnn_data[metrics[i]], label='fnn')\n",
    "    axes[i].plot(epochs, cnn_data[metrics[i]], label='cnn')\n",
    "    axes[i].plot(epochs, rnn_data[metrics[i]], label='rnn')\n",
    "plt.legend()\n",
    "plt.show()"
   ]
  },
  {
   "cell_type": "markdown",
   "id": "879a07e5",
   "metadata": {},
   "source": [
    "### Training vs validation results"
   ]
  },
  {
   "cell_type": "code",
   "execution_count": 16,
   "id": "9632305c",
   "metadata": {},
   "outputs": [],
   "source": [
    "# defines a fucnction which plots training verses validation data to see if we are over or underfitting. \n",
    "def get_train_val(model):\n",
    "    acc = pd.DataFrame()\n",
    "    \n",
    "    for i in metrics:\n",
    "        acc[i] = eval(model + '_history.history')[i]\n",
    "        acc['val_'+i] = eval(model + '_history.history')['val_{}'.format(i)]\n",
    "        \n",
    "    acc['epoch'] = range(1, len(acc) + 1)\n",
    "    \n",
    "    fig, axes = plt.subplots(nrows=1, ncols=3, figsize=(15,3))\n",
    "    for i in range(len(metrics)):\n",
    "        axes[i].set_title(metrics[i].title())\n",
    "        axes[i].plot(acc['epoch'], acc[metrics[i]], 'b', label='Training')\n",
    "        axes[i].plot(acc['epoch'], acc['val_' + metrics[i]], 'r', label='Validation')\n",
    "    plt.legend()\n",
    "    plot = plt.show()"
   ]
  },
  {
   "cell_type": "markdown",
   "id": "f147313d",
   "metadata": {},
   "source": [
    "### 1. fnn..."
   ]
  },
  {
   "cell_type": "code",
   "execution_count": 17,
   "id": "0cbc5a8f",
   "metadata": {},
   "outputs": [
    {
     "data": {
      "image/png": "[encoded data removed]",
      "text/plain": [
       "<Figure size 1080x216 with 3 Axes>"
      ]
     },
     "metadata": {
      "needs_background": "light"
     },
     "output_type": "display_data"
    }
   ],
   "source": [
    "get_train_val('fnn')"
   ]
  },
  {
   "cell_type": "markdown",
   "id": "9668bc9d",
   "metadata": {},
   "source": [
    "### 2. cnn..."
   ]
  },
  {
   "cell_type": "code",
   "execution_count": 18,
   "id": "3bdad42a",
   "metadata": {},
   "outputs": [
    {
     "data": {
      "image/png": "[encoded data removed]",
      "text/plain": [
       "<Figure size 1080x216 with 3 Axes>"
      ]
     },
     "metadata": {
      "needs_background": "light"
     },
     "output_type": "display_data"
    }
   ],
   "source": [
    "get_train_val('cnn')"
   ]
  },
  {
   "cell_type": "markdown",
   "id": "1a56b8c5",
   "metadata": {},
   "source": [
    "### 3. rnn..."
   ]
  },
  {
   "cell_type": "code",
   "execution_count": 19,
   "id": "fa640043",
   "metadata": {},
   "outputs": [
    {
     "data": {
      "image/png": "[encoded data removed]",
      "text/plain": [
       "<Figure size 1080x216 with 3 Axes>"
      ]
     },
     "metadata": {
      "needs_background": "light"
     },
     "output_type": "display_data"
    }
   ],
   "source": [
    "get_train_val('rnn')"
   ]
  },
  {
   "cell_type": "code",
   "execution_count": 20,
   "id": "df1a87d7",
   "metadata": {},
   "outputs": [
    {
     "name": "stdout",
     "output_type": "stream",
     "text": [
      "4/4 [==============================] - 0s 3ms/step\n",
      "fnn: 14 mislabelled headlines - 11.2% of the data.\n",
      "4/4 [==============================] - 0s 3ms/step\n",
      "cnn: 8 mislabelled headlines - 6.4% of the data.\n",
      "4/4 [==============================] - 0s 4ms/step\n",
      "rnn: 7 mislabelled headlines - 5.6% of the data.\n"
     ]
    }
   ],
   "source": [
    "# locates and saves to csv the wrongly predicted headlines for each model. \n",
    "models = ['fnn', 'cnn', 'rnn']\n",
    "\n",
    "for model in models:\n",
    "    prediction = np.round(eval(model).predict(x_test_seq_padded))\n",
    "    unlisted_preds = [item for sublist in prediction for item in sublist]\n",
    "    \n",
    "    wrong_predictions = unlisted_preds != y_test\n",
    "    false_predictions = x_test[wrong_predictions]\n",
    "    \n",
    "    mis_labeled = combined_data.loc[false_predictions.index,]\n",
    "    \n",
    "    mis_labeled.to_csv('C:/Users/HUAWEI/Desktop/Exploratory data/Planet Terror/Data/mis-labeled/{}_mislabeled.csv'.format(model))\n",
    "    \n",
    "    print('{}: '.format(model) + str(len(mis_labeled)) + ' mislabelled headlines - ' + str(round(len(mis_labeled)/len(y_test)*100,2)) + '% of the data.')"
   ]
  },
  {
   "cell_type": "code",
   "execution_count": 21,
   "id": "3e11ab91",
   "metadata": {},
   "outputs": [
    {
     "data": {
      "text/html": [
       "<div>\n",
       "<style scoped>\n",
       "    .dataframe tbody tr th:only-of-type {\n",
       "        vertical-align: middle;\n",
       "    }\n",
       "\n",
       "    .dataframe tbody tr th {\n",
       "        vertical-align: top;\n",
       "    }\n",
       "\n",
       "    .dataframe thead th {\n",
       "        text-align: right;\n",
       "    }\n",
       "</style>\n",
       "<table border=\"1\" class=\"dataframe\">\n",
       "  <thead>\n",
       "    <tr style=\"text-align: right;\">\n",
       "      <th></th>\n",
       "      <th>index</th>\n",
       "      <th>Headline</th>\n",
       "    </tr>\n",
       "  </thead>\n",
       "  <tbody>\n",
       "    <tr>\n",
       "      <th>1</th>\n",
       "      <td>70</td>\n",
       "      <td>Terrorist group kills 2 members of Internal Security Forces in Daraa</td>\n",
       "    </tr>\n",
       "    <tr>\n",
       "      <th>3</th>\n",
       "      <td>42</td>\n",
       "      <td>2 PMU forces martyred in ISIL attack on Iraq's Samarra</td>\n",
       "    </tr>\n",
       "    <tr>\n",
       "      <th>5</th>\n",
       "      <td>82</td>\n",
       "      <td>Islamic State claims Nigeria bombing, says about 30 killed or hurt</td>\n",
       "    </tr>\n",
       "    <tr>\n",
       "      <th>7</th>\n",
       "      <td>175</td>\n",
       "      <td>12 YPG/PKK terrorists killed in northern Syria, Iraq</td>\n",
       "    </tr>\n",
       "    <tr>\n",
       "      <th>9</th>\n",
       "      <td>238</td>\n",
       "      <td>YPG/PKK suicide attack in Syria's Afrin foiled</td>\n",
       "    </tr>\n",
       "    <tr>\n",
       "      <th>11</th>\n",
       "      <td>28</td>\n",
       "      <td>PKK exploits out-of-school activities to recruit children</td>\n",
       "    </tr>\n",
       "  </tbody>\n",
       "</table>\n",
       "</div>"
      ],
      "text/plain": [
       "    index  \\\n",
       "1      70   \n",
       "3      42   \n",
       "5      82   \n",
       "7     175   \n",
       "9     238   \n",
       "11     28   \n",
       "\n",
       "                                                                Headline  \n",
       "1   Terrorist group kills 2 members of Internal Security Forces in Daraa  \n",
       "3                 2 PMU forces martyred in ISIL attack on Iraq's Samarra  \n",
       "5     Islamic State claims Nigeria bombing, says about 30 killed or hurt  \n",
       "7                   12 YPG/PKK terrorists killed in northern Syria, Iraq  \n",
       "9                         YPG/PKK suicide attack in Syria's Afrin foiled  \n",
       "11             PKK exploits out-of-school activities to recruit children  "
      ]
     },
     "execution_count": 21,
     "metadata": {},
     "output_type": "execute_result"
    }
   ],
   "source": [
    "# views the headlines that are mislabelled by at least two of our models.\n",
    "mislabeled_headlines = []\n",
    "\n",
    "for model in models:\n",
    "    mislabeled_headlines.append(pd.read_csv('C:/Users/HUAWEI/Desktop/Exploratory data/Planet Terror/Data/mis-labeled/{}_mislabeled.csv'.format(model)))\n",
    "    \n",
    "x = mislabeled_headlines[0].iloc[:,1]\n",
    "y = mislabeled_headlines[1].iloc[:,1]\n",
    "z = mislabeled_headlines[2].iloc[:,1]\n",
    "\n",
    "problem_headlines = []\n",
    "for i in x: problem_headlines.append(i in list(y) or i in list(z))\n",
    "\n",
    "df = mislabeled_headlines[0][problem_headlines].iloc[:,1:3]\n",
    "df"
   ]
  }
 ],
 "metadata": {
  "kernelspec": {
   "display_name": "Python 3 (ipykernel)",
   "language": "python",
   "name": "python3"
  },
  "language_info": {
   "codemirror_mode": {
    "name": "ipython",
    "version": 3
   },
   "file_extension": ".py",
   "mimetype": "text/x-python",
   "name": "python",
   "nbconvert_exporter": "python",
   "pygments_lexer": "ipython3",
   "version": "3.10.5"
  }
 },
 "nbformat": 4,
 "nbformat_minor": 5
}
